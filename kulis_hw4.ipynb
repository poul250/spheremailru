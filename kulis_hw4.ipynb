{
 "cells": [
  {
   "cell_type": "markdown",
   "metadata": {},
   "source": [
    "# Алгоритмы интеллектуальной обработки больших объемов данных\n",
    "## Домашнее задание №4 - Метод k-средних, предобработка признаков\n"
   ]
  },
  {
   "cell_type": "markdown",
   "metadata": {},
   "source": [
    "###### <hr\\>\n",
    "**Общая информация**\n",
    "\n",
    "**Срок сдачи:** 28 ноября 2018, 06:00 <br\\>\n",
    "**Штраф за опоздание:** -2 балла после 06:00 28 ноября, -4 балла после 06:00 5 декабря, -6 баллов после 06:00 12 декабря, -8 баллов после 19 декабря\n",
    "\n",
    "При отправлении ДЗ указывайте фамилию в названии файла\n",
    "Присылать ДЗ необходимо в виде ссылки на свой github репозиторий в slack @alkhamush\n",
    "\n",
    "Необходимо в slack создать таск в приватный чат:\n",
    "/todo Фамилия Имя ссылка на гитхаб @alkhamush\n",
    "Пример:\n",
    "/todo Ксения Стройкова https://github.com/stroykova/spheremailru/stroykova_hw1.ipynb @alkhamush\n",
    "Дополнительно нужно просто скинуть ссылку в slack в личный чат\n",
    "\n",
    "Используйте данный Ipython Notebook при оформлении домашнего задания."
   ]
  },
  {
   "cell_type": "markdown",
   "metadata": {},
   "source": [
    "# Имплементация K-means\n",
    "\n",
    "Пользуясь наработками выше, имплементируйте метод k-means.  \n",
    "При инициализации необходимо задавать количество кластеров, функцию расстояния между кластерами (для оригинального k-means - евклидово расстояние) и начальное состояние генератора случайных чисел.\n",
    "\n",
    "После обучения, среди атрибутов класса `Kmeans` должны появится\n",
    "* Метки кластеров для объектов\n",
    "* Координаты центройдов кластеров\n",
    "\n",
    "k-means - это алгоритм **кластеризации**, а не классификации, а посему метод `.predict()` в нем фактически не нужен, но он может возвращать метки ближайшего кластера для объектов."
   ]
  },
  {
   "cell_type": "markdown",
   "metadata": {},
   "source": [
    "###### Задание 1 (2 баллов)\n",
    "Имплементируйте метод k-means. Задание считается выполненным, если Ваша реализация работает быстрее реализации из sklearn.\n",
    "\n",
    "Теория для выполнения задания 2 и 3 остаётся на самостоятельное изучение. Теории немного и она совсем простая.\n",
    "\n",
    "###### Задание 2 (2 балла)\n",
    "Имплементируйте класс MiniBatchKMeans, который является классом наследником Kmeans.\n",
    "\n",
    "###### Задание 3 (2 балла)\n",
    "Превратите k-means в k-means++. Для этого нужно реализовать метод в классе Kmeans, который будет инициализировать более \"хорошие\" значения центроидов. Чтобы использовался метод k-means++, в параметр init необходимо передать строковое значение 'k-means' (по умолчанию 'random').\n",
    "\n",
    "###### Задание 4 (2 балла)\n",
    "В пункте \"Проверка корректности метода\" нужно нарисовать графики, которые показывают зависимость времени выполнения алгоритма от количества сэмплов. Графики должны быть  нарисованы для различных комбинаций реализаций алгоритма (k-means, k-means++, k-means с MiniBatchKMeans, k-means++ с MiniBatchKMeans). График достаточно построить на 5-10 точках.\n",
    "\n",
    "###### Задание 5 (2 балла)\n",
    "В пункте \"Применение K-means на реальных данных\" нужно сравнить различные реализации k-means (k-means, k-means++, k-means с MiniBatchKMeans, k-means++ с MiniBatchKMeans). После чего написать вывод, в котором должно быть объяснение того, почему один алгоритм оказался лучше остальных или почему не было выявлено лучшего алгоритма.\n",
    "\n",
    "**Штрафные баллы:**\n",
    "\n",
    "1. Невыполнение PEP8 -1 балл\n",
    "2. Отсутствие фамилии в имени скрипта (скрипт должен называться по аналогии со stroykova_hw4.ipynb) -1 балл\n",
    "3. Все строчки должны быть выполнены. Нужно, чтобы output команды можно было увидеть уже в git'е. В противном случае -1 балл\n",
    "4. При оформлении ДЗ нужно пользоваться данным файлом в качестве шаблона. Не нужно удалять и видоизменять написанный код и текст. В противном случае -1 балл\n",
    "<hr\\>"
   ]
  },
  {
   "cell_type": "code",
   "execution_count": 2,
   "metadata": {},
   "outputs": [
    {
     "name": "stdout",
     "output_type": "stream",
     "text": [
      "The pycodestyle_magic extension is already loaded. To reload it, use:\n",
      "  %reload_ext pycodestyle_magic\n"
     ]
    }
   ],
   "source": [
    "import pandas as pd\n",
    "import numpy as np\n",
    "import matplotlib.pyplot as plt\n",
    "import random\n",
    "from sklearn.metrics import pairwise_distances\n",
    "\n",
    "%matplotlib inline\n",
    "\n",
    "plt.style.use('ggplot')\n",
    "plt.rcParams['figure.figsize'] = (14,5)\n",
    "\n",
    "%load_ext pycodestyle_magic"
   ]
  },
  {
   "cell_type": "code",
   "execution_count": 3,
   "metadata": {},
   "outputs": [],
   "source": [
    "# %%pycodestyle\n",
    "\n",
    "\n",
    "class MyKmeans:\n",
    "    def __init__(self, k=2, metric='euclidean', max_iter=1000,\n",
    "                 random_state=None, init='random'):\n",
    "        \"\"\"\n",
    "        Инициализация метода\n",
    "        :k - количество кластеров\n",
    "        :metric - функция расстояния между объектами\n",
    "        :max_iter - максиальное количество итераций\n",
    "        :random_state - seed для инициализации генератора случайных чисел\n",
    "        \"\"\"\n",
    "        self.k = k\n",
    "        self.random_state = random_state\n",
    "        self.max_iter = max_iter\n",
    "        self.init = init\n",
    "        self.metric = metric\n",
    "\n",
    "    def get_metric(self, X, y):\n",
    "        x_sq = (X ** 2).sum(axis=1)\n",
    "        y_sq = (y ** 2).sum(axis=1)\n",
    "        dot_xy = X.dot(y.T)\n",
    "        return (y_sq + x_sq.reshape(-1, 1) - 2 * dot_xy) ** 0.5\n",
    "\n",
    "    def init_centroids(self, X):\n",
    "        if self.init == 'random':\n",
    "            self.centroids = X[np.random.choice(X.shape[0], size=self.k)]\n",
    "        elif self.init == 'k-means':\n",
    "            self.centroids[0] = X[np.random.choice(len(X))]\n",
    "            for i in range(1, self.k):\n",
    "                dists = self.get_metric(X, self.centroids[:i]).min(axis=1)\n",
    "                probabilities = dists / dists.sum()\n",
    "                self.centroids[i] = X[np.random.choice(len(X),\n",
    "                                                       p=probabilities)]\n",
    "        else:\n",
    "            raise Exception('Unrecognized init')\n",
    "\n",
    "    def set_labels(self, y):\n",
    "        new_labels = np.empty((len(self.labels)))\n",
    "        for i in range(self.k):\n",
    "            bn = np.bincount(y[self.labels == i])\n",
    "            if len(bn) > 0:\n",
    "                new_labels[self.labels == i] = bn.argmax()\n",
    "        self.labels = new_labels\n",
    "\n",
    "    def fit(self, X, y=None):\n",
    "        \"\"\"\n",
    "        Процедура обучения k-means\n",
    "        \"\"\"\n",
    "\n",
    "        # Инициализация генератора случайных чисел\n",
    "        np.random.seed(self.random_state)\n",
    "\n",
    "        # Массив с метками кластеров для каждого объекта из X\n",
    "        self.labels = np.empty(X.shape[0])\n",
    "\n",
    "        # Массив с центройдами кластеров\n",
    "        self.centroids = np.empty((self.k, X.shape[1]))\n",
    "\n",
    "        # Инициализируем центроиды\n",
    "        self.init_centroids(X)\n",
    "        old_centroids = self.centroids.copy()\n",
    "\n",
    "        for _ in range(self.max_iter):\n",
    "            # Обновляем метки\n",
    "            metrics = self.get_metric(X, self.centroids)\n",
    "            self.labels = metrics.argmin(axis=1)\n",
    "\n",
    "            # Обновляем центроиды\n",
    "            for i in range(self.k):\n",
    "                mask = self.labels == i\n",
    "                if mask.any():\n",
    "                    self.centroids[i] = X[mask].mean(axis=0)\n",
    "\n",
    "            # Если положение центроид не изменилось, выходим\n",
    "            if np.linalg.norm(old_centroids - self.centroids) < 0.5:\n",
    "                break\n",
    "            old_centroids = self.centroids.copy()\n",
    "\n",
    "        # Присваиваем кластерам метки\n",
    "        if y is not None:\n",
    "            self.set_labels(y)\n",
    "        return self\n",
    "\n",
    "    def predict(self, X, y=None):\n",
    "        \"\"\"\n",
    "        Процедура предсказания кластера\n",
    "        Возвращает метку ближайшего кластера для каждого объекта\n",
    "        \"\"\"\n",
    "        return self.get_metric(X, self.centroids).argmin(axis=1)\n",
    "\n",
    "\n",
    "class MiniBatchKMeans(MyKmeans):\n",
    "    def __init__(self, k=2, metric='euclidean', max_iter=1000,\n",
    "                 random_state=None, init='random', batch_size=64):\n",
    "        super(MiniBatchKMeans, self).__init__(k, metric, max_iter,\n",
    "                                              random_state, init)\n",
    "        self.batch_size = batch_size\n",
    "\n",
    "    def fit(self, X, y=None):\n",
    "        \"\"\"\n",
    "        Процедура обучения k-means\n",
    "        \"\"\"\n",
    "\n",
    "        # Инициализация генератора случайных чисел\n",
    "        np.random.seed(self.random_state)\n",
    "\n",
    "        # Массив с метками кластеров для каждого объекта из X\n",
    "        self.labels = np.empty(X.shape[0], dtype=np.int)\n",
    "\n",
    "        # Массив с центройдами кластеров\n",
    "        self.centroids = np.empty((self.k, X.shape[1]))\n",
    "\n",
    "        # Инициализируем центроиды\n",
    "        self.init_centroids(X)\n",
    "        old_centroids = self.centroids.copy()\n",
    "\n",
    "        for _ in range(self.max_iter):\n",
    "            # Берём батч\n",
    "            batch_mask = np.random.choice(np.arange(len(X)),\n",
    "                                          self.batch_size)\n",
    "\n",
    "            # Обновляем метки\n",
    "            batch_matrics = self.get_metric(X[batch_mask], self.centroids)\n",
    "            self.labels[batch_mask] = batch_matrics.argmin(axis=1)\n",
    "\n",
    "            # Обновляем центроиды\n",
    "            for i in range(self.k):\n",
    "                mask = self.labels == i\n",
    "                if mask.any():\n",
    "                    self.centroids[i] = X[mask].mean(axis=0)\n",
    "\n",
    "            # Если положение центроид не изменилось, выходим\n",
    "            if np.linalg.norm(old_centroids - self.centroids) < 0.1:\n",
    "                break\n",
    "            old_centroids = self.centroids.copy()\n",
    "\n",
    "        metrics = self.get_metric(X, self.centroids)\n",
    "        self.labels = metrics.argmin(axis=1)\n",
    "        # Присваиваем кластерам метки\n",
    "        if y is not None:\n",
    "            self.set_labels(y)\n",
    "        return self"
   ]
  },
  {
   "cell_type": "markdown",
   "metadata": {},
   "source": [
    "### Проверка корректности метода\n",
    "\n",
    "Перед тем как применять алгоритм на реальных данных, нужно испытать его на простых \"игрушечных\" данных.\n",
    "\n",
    "Если алгоритм реализован правильно, то метод должен идеально разбивать на 3 кластера данные ниже. Проверьте это.\n",
    "\n",
    "ВНИМАНИЕ! Проверка должна быть осуществлена на всех реализациях, иначе реализация не будет зачтена!"
   ]
  },
  {
   "cell_type": "code",
   "execution_count": 4,
   "metadata": {},
   "outputs": [],
   "source": [
    "from sklearn.datasets import make_blobs"
   ]
  },
  {
   "cell_type": "code",
   "execution_count": 5,
   "metadata": {},
   "outputs": [],
   "source": [
    "X, y = make_blobs(n_samples=100, n_features=2, centers=3, cluster_std=1, \n",
    "           center_box=(-10.0, 10.0), shuffle=False, random_state=1234)"
   ]
  },
  {
   "cell_type": "code",
   "execution_count": 6,
   "metadata": {},
   "outputs": [
    {
     "data": {
      "text/plain": [
       "<matplotlib.collections.PathCollection at 0x1b8cbb44358>"
      ]
     },
     "execution_count": 6,
     "metadata": {},
     "output_type": "execute_result"
    },
    {
     "data": {
      "image/png": "[encoded data removed]",
      "text/plain": [
       "<Figure size 1008x360 with 1 Axes>"
      ]
     },
     "metadata": {},
     "output_type": "display_data"
    }
   ],
   "source": [
    "plt.scatter(X[:,0], X[:, 1], c=y)"
   ]
  },
  {
   "cell_type": "markdown",
   "metadata": {},
   "source": [
    "Проверьте Вашу имплементацию на простых данных (без этого пункта ДЗ не считается выполненным).   \n",
    "КОММЕНТАРИИ НЕ СТИРАТЬ!"
   ]
  },
  {
   "cell_type": "code",
   "execution_count": 7,
   "metadata": {},
   "outputs": [
    {
     "data": {
      "text/plain": [
       "<matplotlib.collections.PathCollection at 0x1b8cbd6a5c0>"
      ]
     },
     "execution_count": 7,
     "metadata": {},
     "output_type": "execute_result"
    },
    {
     "data": {
      "image/png": "[encoded data removed]",
      "text/plain": [
       "<Figure size 1008x360 with 1 Axes>"
      ]
     },
     "metadata": {},
     "output_type": "display_data"
    }
   ],
   "source": [
    "## Работоспособность MyKmeans\n",
    "my_clf = MyKmeans(k=3)\n",
    "my_clf.fit(X)\n",
    "plt.scatter(X[:,0], X[:, 1], c=my_clf.labels)\n",
    "plt.scatter(my_clf.centroids[:,0], my_clf.centroids[:,1])"
   ]
  },
  {
   "cell_type": "code",
   "execution_count": 8,
   "metadata": {},
   "outputs": [
    {
     "data": {
      "text/plain": [
       "<matplotlib.collections.PathCollection at 0x1b8cbbf0390>"
      ]
     },
     "execution_count": 8,
     "metadata": {},
     "output_type": "execute_result"
    },
    {
     "data": {
      "image/png": "[encoded data removed]",
      "text/plain": [
       "<Figure size 1008x360 with 1 Axes>"
      ]
     },
     "metadata": {},
     "output_type": "display_data"
    }
   ],
   "source": [
    "## Работоспособность MyKmeans++\n",
    "my_clf = MyKmeans(k=3, init='k-means')\n",
    "my_clf.fit(X)\n",
    "plt.scatter(X[:,0], X[:, 1], c=my_clf.labels)\n",
    "plt.scatter(my_clf.centroids[:,0], my_clf.centroids[:,1])"
   ]
  },
  {
   "cell_type": "code",
   "execution_count": 9,
   "metadata": {},
   "outputs": [
    {
     "data": {
      "text/plain": [
       "<matplotlib.collections.PathCollection at 0x1b8cbc58be0>"
      ]
     },
     "execution_count": 9,
     "metadata": {},
     "output_type": "execute_result"
    },
    {
     "data": {
      "image/png": "[encoded data removed]",
      "text/plain": [
       "<Figure size 1008x360 with 1 Axes>"
      ]
     },
     "metadata": {},
     "output_type": "display_data"
    }
   ],
   "source": [
    "## Работоспособность MyKmeans с MiniBatchMyKmeans\n",
    "my_clf = MiniBatchKMeans(k=3)\n",
    "my_clf.fit(X)\n",
    "plt.scatter(X[:,0], X[:, 1], c=my_clf.labels)\n",
    "plt.scatter(my_clf.centroids[:,0], my_clf.centroids[:,1])"
   ]
  },
  {
   "cell_type": "code",
   "execution_count": 10,
   "metadata": {},
   "outputs": [
    {
     "data": {
      "text/plain": [
       "<matplotlib.collections.PathCollection at 0x1b8cbcca3c8>"
      ]
     },
     "execution_count": 10,
     "metadata": {},
     "output_type": "execute_result"
    },
    {
     "data": {
      "image/png": "[encoded data removed]",
      "text/plain": [
       "<Figure size 1008x360 with 1 Axes>"
      ]
     },
     "metadata": {},
     "output_type": "display_data"
    }
   ],
   "source": [
    "## Работоспособность MyKmeans++ с MiniBatchMyKmeans\n",
    "my_clf = MiniBatchKMeans(k=3, init='k-means')\n",
    "my_clf.fit(X)\n",
    "plt.scatter(X[:,0], X[:, 1], c=my_clf.labels)\n",
    "plt.scatter(my_clf.centroids[:,0], my_clf.centroids[:,1])"
   ]
  },
  {
   "cell_type": "code",
   "execution_count": 11,
   "metadata": {},
   "outputs": [],
   "source": [
    "from time import time\n",
    "from sklearn.cluster import KMeans"
   ]
  },
  {
   "cell_type": "code",
   "execution_count": 12,
   "metadata": {},
   "outputs": [],
   "source": [
    "def get_time(clf, n_samples):\n",
    "    num_iterations = 100\n",
    "\n",
    "    t = 0\n",
    "    for _ in range(num_iterations):\n",
    "        X, y = make_blobs(n_samples=n_samples, n_features=2, centers=3, cluster_std=1, \n",
    "               center_box=(-10.0, 10.0), shuffle=False, random_state=1234)\n",
    "        start = time()\n",
    "        clf.fit(X)\n",
    "        t += time() - start\n",
    "    return t / num_iterations\n",
    "\n",
    "samples = list(range(10000, 50001, 5000))"
   ]
  },
  {
   "cell_type": "code",
   "execution_count": 13,
   "metadata": {},
   "outputs": [
    {
     "data": {
      "image/png": "[encoded data removed]",
      "text/plain": [
       "<Figure size 1008x360 with 1 Axes>"
      ]
     },
     "metadata": {},
     "output_type": "display_data"
    }
   ],
   "source": [
    "## Время выполнения алгоритма Kmeans из sklearn\n",
    "times = []\n",
    "for sample in samples:\n",
    "    clf = KMeans(n_clusters=3)\n",
    "    times.append(get_time(clf, sample))\n",
    "\n",
    "plt.plot(samples, times)\n",
    "plt.show()"
   ]
  },
  {
   "cell_type": "code",
   "execution_count": 14,
   "metadata": {},
   "outputs": [
    {
     "data": {
      "image/png": "[encoded data removed]",
      "text/plain": [
       "<Figure size 1008x360 with 1 Axes>"
      ]
     },
     "metadata": {},
     "output_type": "display_data"
    }
   ],
   "source": [
    "## Время выполнения алгоритма MyKmeans\n",
    "times = []\n",
    "for sample in samples:\n",
    "    clf = MyKmeans(k=3)\n",
    "    times.append(get_time(clf, sample))\n",
    "\n",
    "plt.plot(samples, times)\n",
    "plt.show()"
   ]
  },
  {
   "cell_type": "code",
   "execution_count": 15,
   "metadata": {},
   "outputs": [
    {
     "data": {
      "image/png": "[encoded data removed]",
      "text/plain": [
       "<Figure size 1008x360 with 1 Axes>"
      ]
     },
     "metadata": {},
     "output_type": "display_data"
    }
   ],
   "source": [
    "## Время выполнения алгоритма MyKmeans++\n",
    "times = []\n",
    "for sample in samples:\n",
    "    clf = MyKmeans(k=3, init='k-means')\n",
    "    times.append(get_time(clf, sample))\n",
    "\n",
    "plt.plot(samples, times)\n",
    "plt.show()"
   ]
  },
  {
   "cell_type": "code",
   "execution_count": 16,
   "metadata": {},
   "outputs": [
    {
     "data": {
      "image/png": "[encoded data removed]",
      "text/plain": [
       "<Figure size 1008x360 with 1 Axes>"
      ]
     },
     "metadata": {},
     "output_type": "display_data"
    }
   ],
   "source": [
    "## Время выполнения алгоритма MyKmeans с MiniBatchMyKmeans\n",
    "times = []\n",
    "for sample in samples:\n",
    "    clf = MiniBatchKMeans(k=3, batch_size=200)\n",
    "    times.append(get_time(clf, sample))\n",
    "\n",
    "plt.plot(samples, times)\n",
    "plt.show()"
   ]
  },
  {
   "cell_type": "code",
   "execution_count": 17,
   "metadata": {},
   "outputs": [
    {
     "data": {
      "image/png": "[encoded data removed]",
      "text/plain": [
       "<Figure size 1008x360 with 1 Axes>"
      ]
     },
     "metadata": {},
     "output_type": "display_data"
    }
   ],
   "source": [
    "## Время выполнения алгоритма  MyKmeans++ с MiniBatchMyKmeans\n",
    "times = []\n",
    "for sample in samples:\n",
    "    clf = MiniBatchKMeans(k=3, init='k-means', batch_size=200)\n",
    "    times.append(get_time(clf, sample))\n",
    "\n",
    "plt.plot(samples, times)\n",
    "plt.show()"
   ]
  },
  {
   "cell_type": "markdown",
   "metadata": {},
   "source": [
    "# Применение K-means на реальных данных"
   ]
  },
  {
   "cell_type": "markdown",
   "metadata": {},
   "source": [
    "Загрузите [данные](https://github.com/brenden17/sklearnlab/blob/master/facebook/snsdata.csv) в которых содержится описание интересов профилей учеников старшей школы США.  (без этого пункта задание не считается выполненным).   \n",
    "ВНИМАНИЕ! Проверка должна быть осуществлена на всех реализациях, иначе реализация не будет зачтена!"
   ]
  },
  {
   "cell_type": "code",
   "execution_count": 18,
   "metadata": {},
   "outputs": [
    {
     "data": {
      "text/html": [
       "<div>\n",
       "<style scoped>\n",
       "    .dataframe tbody tr th:only-of-type {\n",
       "        vertical-align: middle;\n",
       "    }\n",
       "\n",
       "    .dataframe tbody tr th {\n",
       "        vertical-align: top;\n",
       "    }\n",
       "\n",
       "    .dataframe thead th {\n",
       "        text-align: right;\n",
       "    }\n",
       "</style>\n",
       "<table border=\"1\" class=\"dataframe\">\n",
       "  <thead>\n",
       "    <tr style=\"text-align: right;\">\n",
       "      <th></th>\n",
       "      <th>gradyear</th>\n",
       "      <th>gender</th>\n",
       "      <th>age</th>\n",
       "      <th>friends</th>\n",
       "      <th>basketball</th>\n",
       "      <th>football</th>\n",
       "      <th>soccer</th>\n",
       "      <th>softball</th>\n",
       "      <th>volleyball</th>\n",
       "      <th>swimming</th>\n",
       "      <th>...</th>\n",
       "      <th>blonde</th>\n",
       "      <th>mall</th>\n",
       "      <th>shopping</th>\n",
       "      <th>clothes</th>\n",
       "      <th>hollister</th>\n",
       "      <th>abercrombie</th>\n",
       "      <th>die</th>\n",
       "      <th>death</th>\n",
       "      <th>drunk</th>\n",
       "      <th>drugs</th>\n",
       "    </tr>\n",
       "  </thead>\n",
       "  <tbody>\n",
       "    <tr>\n",
       "      <th>0</th>\n",
       "      <td>2006</td>\n",
       "      <td>M</td>\n",
       "      <td>18.982</td>\n",
       "      <td>7</td>\n",
       "      <td>0</td>\n",
       "      <td>0</td>\n",
       "      <td>0</td>\n",
       "      <td>0</td>\n",
       "      <td>0</td>\n",
       "      <td>0</td>\n",
       "      <td>...</td>\n",
       "      <td>0</td>\n",
       "      <td>0</td>\n",
       "      <td>0</td>\n",
       "      <td>0</td>\n",
       "      <td>0</td>\n",
       "      <td>0</td>\n",
       "      <td>0</td>\n",
       "      <td>0</td>\n",
       "      <td>0</td>\n",
       "      <td>0</td>\n",
       "    </tr>\n",
       "    <tr>\n",
       "      <th>1</th>\n",
       "      <td>2006</td>\n",
       "      <td>F</td>\n",
       "      <td>18.801</td>\n",
       "      <td>0</td>\n",
       "      <td>0</td>\n",
       "      <td>1</td>\n",
       "      <td>0</td>\n",
       "      <td>0</td>\n",
       "      <td>0</td>\n",
       "      <td>0</td>\n",
       "      <td>...</td>\n",
       "      <td>0</td>\n",
       "      <td>1</td>\n",
       "      <td>0</td>\n",
       "      <td>0</td>\n",
       "      <td>0</td>\n",
       "      <td>0</td>\n",
       "      <td>0</td>\n",
       "      <td>0</td>\n",
       "      <td>0</td>\n",
       "      <td>0</td>\n",
       "    </tr>\n",
       "    <tr>\n",
       "      <th>2</th>\n",
       "      <td>2006</td>\n",
       "      <td>M</td>\n",
       "      <td>18.335</td>\n",
       "      <td>69</td>\n",
       "      <td>0</td>\n",
       "      <td>1</td>\n",
       "      <td>0</td>\n",
       "      <td>0</td>\n",
       "      <td>0</td>\n",
       "      <td>0</td>\n",
       "      <td>...</td>\n",
       "      <td>0</td>\n",
       "      <td>0</td>\n",
       "      <td>0</td>\n",
       "      <td>0</td>\n",
       "      <td>0</td>\n",
       "      <td>0</td>\n",
       "      <td>0</td>\n",
       "      <td>1</td>\n",
       "      <td>0</td>\n",
       "      <td>0</td>\n",
       "    </tr>\n",
       "    <tr>\n",
       "      <th>3</th>\n",
       "      <td>2006</td>\n",
       "      <td>F</td>\n",
       "      <td>18.875</td>\n",
       "      <td>0</td>\n",
       "      <td>0</td>\n",
       "      <td>0</td>\n",
       "      <td>0</td>\n",
       "      <td>0</td>\n",
       "      <td>0</td>\n",
       "      <td>0</td>\n",
       "      <td>...</td>\n",
       "      <td>0</td>\n",
       "      <td>0</td>\n",
       "      <td>0</td>\n",
       "      <td>0</td>\n",
       "      <td>0</td>\n",
       "      <td>0</td>\n",
       "      <td>0</td>\n",
       "      <td>0</td>\n",
       "      <td>0</td>\n",
       "      <td>0</td>\n",
       "    </tr>\n",
       "    <tr>\n",
       "      <th>4</th>\n",
       "      <td>2006</td>\n",
       "      <td>NaN</td>\n",
       "      <td>18.995</td>\n",
       "      <td>10</td>\n",
       "      <td>0</td>\n",
       "      <td>0</td>\n",
       "      <td>0</td>\n",
       "      <td>0</td>\n",
       "      <td>0</td>\n",
       "      <td>0</td>\n",
       "      <td>...</td>\n",
       "      <td>0</td>\n",
       "      <td>0</td>\n",
       "      <td>2</td>\n",
       "      <td>0</td>\n",
       "      <td>0</td>\n",
       "      <td>0</td>\n",
       "      <td>0</td>\n",
       "      <td>0</td>\n",
       "      <td>1</td>\n",
       "      <td>1</td>\n",
       "    </tr>\n",
       "  </tbody>\n",
       "</table>\n",
       "<p>5 rows × 40 columns</p>\n",
       "</div>"
      ],
      "text/plain": [
       "   gradyear gender     age  friends  basketball  football  soccer  softball  \\\n",
       "0      2006      M  18.982        7           0         0       0         0   \n",
       "1      2006      F  18.801        0           0         1       0         0   \n",
       "2      2006      M  18.335       69           0         1       0         0   \n",
       "3      2006      F  18.875        0           0         0       0         0   \n",
       "4      2006    NaN  18.995       10           0         0       0         0   \n",
       "\n",
       "   volleyball  swimming  ...    blonde  mall  shopping  clothes  hollister  \\\n",
       "0           0         0  ...         0     0         0        0          0   \n",
       "1           0         0  ...         0     1         0        0          0   \n",
       "2           0         0  ...         0     0         0        0          0   \n",
       "3           0         0  ...         0     0         0        0          0   \n",
       "4           0         0  ...         0     0         2        0          0   \n",
       "\n",
       "   abercrombie  die  death  drunk  drugs  \n",
       "0            0    0      0      0      0  \n",
       "1            0    0      0      0      0  \n",
       "2            0    0      1      0      0  \n",
       "3            0    0      0      0      0  \n",
       "4            0    0      0      1      1  \n",
       "\n",
       "[5 rows x 40 columns]"
      ]
     },
     "execution_count": 18,
     "metadata": {},
     "output_type": "execute_result"
    }
   ],
   "source": [
    "df_sns = pd.read_csv('snsdata.csv', sep=',')\n",
    "df_sns.head()"
   ]
  },
  {
   "cell_type": "code",
   "execution_count": 19,
   "metadata": {},
   "outputs": [
    {
     "data": {
      "text/html": [
       "<div>\n",
       "<style scoped>\n",
       "    .dataframe tbody tr th:only-of-type {\n",
       "        vertical-align: middle;\n",
       "    }\n",
       "\n",
       "    .dataframe tbody tr th {\n",
       "        vertical-align: top;\n",
       "    }\n",
       "\n",
       "    .dataframe thead th {\n",
       "        text-align: right;\n",
       "    }\n",
       "</style>\n",
       "<table border=\"1\" class=\"dataframe\">\n",
       "  <thead>\n",
       "    <tr style=\"text-align: right;\">\n",
       "      <th></th>\n",
       "      <th>basketball</th>\n",
       "      <th>football</th>\n",
       "      <th>soccer</th>\n",
       "      <th>softball</th>\n",
       "      <th>volleyball</th>\n",
       "      <th>swimming</th>\n",
       "      <th>cheerleading</th>\n",
       "      <th>baseball</th>\n",
       "      <th>tennis</th>\n",
       "      <th>sports</th>\n",
       "      <th>...</th>\n",
       "      <th>blonde</th>\n",
       "      <th>mall</th>\n",
       "      <th>shopping</th>\n",
       "      <th>clothes</th>\n",
       "      <th>hollister</th>\n",
       "      <th>abercrombie</th>\n",
       "      <th>die</th>\n",
       "      <th>death</th>\n",
       "      <th>drunk</th>\n",
       "      <th>drugs</th>\n",
       "    </tr>\n",
       "  </thead>\n",
       "  <tbody>\n",
       "    <tr>\n",
       "      <th>0</th>\n",
       "      <td>-0.332212</td>\n",
       "      <td>-0.357691</td>\n",
       "      <td>-0.24287</td>\n",
       "      <td>-0.217924</td>\n",
       "      <td>-0.223666</td>\n",
       "      <td>-0.259966</td>\n",
       "      <td>-0.207324</td>\n",
       "      <td>-0.201127</td>\n",
       "      <td>-0.168936</td>\n",
       "      <td>-0.297118</td>\n",
       "      <td>...</td>\n",
       "      <td>-0.050936</td>\n",
       "      <td>-0.369909</td>\n",
       "      <td>-0.487306</td>\n",
       "      <td>-0.314193</td>\n",
       "      <td>-0.201473</td>\n",
       "      <td>-0.183029</td>\n",
       "      <td>-0.294788</td>\n",
       "      <td>-0.261526</td>\n",
       "      <td>-0.220399</td>\n",
       "      <td>-0.174905</td>\n",
       "    </tr>\n",
       "    <tr>\n",
       "      <th>1</th>\n",
       "      <td>-0.332212</td>\n",
       "      <td>1.060031</td>\n",
       "      <td>-0.24287</td>\n",
       "      <td>-0.217924</td>\n",
       "      <td>-0.223666</td>\n",
       "      <td>-0.259966</td>\n",
       "      <td>-0.207324</td>\n",
       "      <td>-0.201127</td>\n",
       "      <td>-0.168936</td>\n",
       "      <td>-0.297118</td>\n",
       "      <td>...</td>\n",
       "      <td>-0.050936</td>\n",
       "      <td>1.067374</td>\n",
       "      <td>-0.487306</td>\n",
       "      <td>-0.314193</td>\n",
       "      <td>-0.201473</td>\n",
       "      <td>-0.183029</td>\n",
       "      <td>-0.294788</td>\n",
       "      <td>-0.261526</td>\n",
       "      <td>-0.220399</td>\n",
       "      <td>-0.174905</td>\n",
       "    </tr>\n",
       "    <tr>\n",
       "      <th>2</th>\n",
       "      <td>-0.332212</td>\n",
       "      <td>1.060031</td>\n",
       "      <td>-0.24287</td>\n",
       "      <td>-0.217924</td>\n",
       "      <td>-0.223666</td>\n",
       "      <td>-0.259966</td>\n",
       "      <td>-0.207324</td>\n",
       "      <td>-0.201127</td>\n",
       "      <td>-0.168936</td>\n",
       "      <td>-0.297118</td>\n",
       "      <td>...</td>\n",
       "      <td>-0.050936</td>\n",
       "      <td>-0.369909</td>\n",
       "      <td>-0.487306</td>\n",
       "      <td>-0.314193</td>\n",
       "      <td>-0.201473</td>\n",
       "      <td>-0.183029</td>\n",
       "      <td>-0.294788</td>\n",
       "      <td>2.027874</td>\n",
       "      <td>-0.220399</td>\n",
       "      <td>-0.174905</td>\n",
       "    </tr>\n",
       "    <tr>\n",
       "      <th>3</th>\n",
       "      <td>-0.332212</td>\n",
       "      <td>-0.357691</td>\n",
       "      <td>-0.24287</td>\n",
       "      <td>-0.217924</td>\n",
       "      <td>-0.223666</td>\n",
       "      <td>-0.259966</td>\n",
       "      <td>-0.207324</td>\n",
       "      <td>-0.201127</td>\n",
       "      <td>-0.168936</td>\n",
       "      <td>-0.297118</td>\n",
       "      <td>...</td>\n",
       "      <td>-0.050936</td>\n",
       "      <td>-0.369909</td>\n",
       "      <td>-0.487306</td>\n",
       "      <td>-0.314193</td>\n",
       "      <td>-0.201473</td>\n",
       "      <td>-0.183029</td>\n",
       "      <td>-0.294788</td>\n",
       "      <td>-0.261526</td>\n",
       "      <td>-0.220399</td>\n",
       "      <td>-0.174905</td>\n",
       "    </tr>\n",
       "    <tr>\n",
       "      <th>4</th>\n",
       "      <td>-0.332212</td>\n",
       "      <td>-0.357691</td>\n",
       "      <td>-0.24287</td>\n",
       "      <td>-0.217924</td>\n",
       "      <td>-0.223666</td>\n",
       "      <td>-0.259966</td>\n",
       "      <td>-0.207324</td>\n",
       "      <td>-0.201127</td>\n",
       "      <td>-0.168936</td>\n",
       "      <td>-0.297118</td>\n",
       "      <td>...</td>\n",
       "      <td>-0.050936</td>\n",
       "      <td>-0.369909</td>\n",
       "      <td>2.273635</td>\n",
       "      <td>-0.314193</td>\n",
       "      <td>-0.201473</td>\n",
       "      <td>-0.183029</td>\n",
       "      <td>-0.294788</td>\n",
       "      <td>-0.261526</td>\n",
       "      <td>2.285084</td>\n",
       "      <td>2.719271</td>\n",
       "    </tr>\n",
       "  </tbody>\n",
       "</table>\n",
       "<p>5 rows × 36 columns</p>\n",
       "</div>"
      ],
      "text/plain": [
       "   basketball  football   soccer  softball  volleyball  swimming  \\\n",
       "0   -0.332212 -0.357691 -0.24287 -0.217924   -0.223666 -0.259966   \n",
       "1   -0.332212  1.060031 -0.24287 -0.217924   -0.223666 -0.259966   \n",
       "2   -0.332212  1.060031 -0.24287 -0.217924   -0.223666 -0.259966   \n",
       "3   -0.332212 -0.357691 -0.24287 -0.217924   -0.223666 -0.259966   \n",
       "4   -0.332212 -0.357691 -0.24287 -0.217924   -0.223666 -0.259966   \n",
       "\n",
       "   cheerleading  baseball    tennis    sports    ...       blonde      mall  \\\n",
       "0     -0.207324 -0.201127 -0.168936 -0.297118    ...    -0.050936 -0.369909   \n",
       "1     -0.207324 -0.201127 -0.168936 -0.297118    ...    -0.050936  1.067374   \n",
       "2     -0.207324 -0.201127 -0.168936 -0.297118    ...    -0.050936 -0.369909   \n",
       "3     -0.207324 -0.201127 -0.168936 -0.297118    ...    -0.050936 -0.369909   \n",
       "4     -0.207324 -0.201127 -0.168936 -0.297118    ...    -0.050936 -0.369909   \n",
       "\n",
       "   shopping   clothes  hollister  abercrombie       die     death     drunk  \\\n",
       "0 -0.487306 -0.314193  -0.201473    -0.183029 -0.294788 -0.261526 -0.220399   \n",
       "1 -0.487306 -0.314193  -0.201473    -0.183029 -0.294788 -0.261526 -0.220399   \n",
       "2 -0.487306 -0.314193  -0.201473    -0.183029 -0.294788  2.027874 -0.220399   \n",
       "3 -0.487306 -0.314193  -0.201473    -0.183029 -0.294788 -0.261526 -0.220399   \n",
       "4  2.273635 -0.314193  -0.201473    -0.183029 -0.294788 -0.261526  2.285084   \n",
       "\n",
       "      drugs  \n",
       "0 -0.174905  \n",
       "1 -0.174905  \n",
       "2 -0.174905  \n",
       "3 -0.174905  \n",
       "4  2.719271  \n",
       "\n",
       "[5 rows x 36 columns]"
      ]
     },
     "execution_count": 19,
     "metadata": {},
     "output_type": "execute_result"
    }
   ],
   "source": [
    "df_sns = df_sns.drop(['gradyear', 'gender', 'age', 'friends'], axis='columns')\n",
    "df_sns = (df_sns - df_sns.mean(axis=0)) / df_sns.std(axis=0)\n",
    "df_sns.head()"
   ]
  },
  {
   "cell_type": "markdown",
   "metadata": {},
   "source": [
    "Данные устроены так: \n",
    "* Год выпуска\n",
    "* Пол\n",
    "* Возраст\n",
    "* Количество друзей\n",
    "* 36 ключевых слов, которые встречаются в профилe facebook (интересы, сообщества, встречи)"
   ]
  },
  {
   "cell_type": "markdown",
   "metadata": {},
   "source": [
    "* Удалите все признаки кроме 36 ключевых слов.\n",
    "* Нормализуйте данные - из каждого столбца вычтите его среднее значение и поделите на стандартное отклонение.\n",
    "* Используйте метод k-means чтобы выделить 9 кластеров\n",
    "* Попробуйте проинтерпретировать каждый кластер проанализировав полученные центройды (Некоторые кластеры могут быть очень большие и очень маленькие - плохо интерпретируются)   \n",
    "КОММЕНТАРИИ НЕ СТИРАТЬ!"
   ]
  },
  {
   "cell_type": "code",
   "execution_count": 20,
   "metadata": {},
   "outputs": [
    {
     "name": "stderr",
     "output_type": "stream",
     "text": [
      "C:\\Users\\User\\Anaconda3\\lib\\site-packages\\ipykernel_launcher.py:24: RuntimeWarning: invalid value encountered in sqrt\n"
     ]
    },
    {
     "name": "stdout",
     "output_type": "stream",
     "text": [
      "time: 0.4996614456176758\n",
      "Clasters sizes: 850 604 2757 19604 3259 927 479 1065 455 \n",
      "\n",
      "hollister      4.161361\n",
      "abercrombie    3.987458\n",
      "shopping       0.790847\n",
      "mall           0.582080\n",
      "clothes        0.564476\n",
      "Name: 0, dtype: float64\n",
      "Size: 850 \n",
      "\n",
      "sexy    4.882531\n",
      "cute    0.885106\n",
      "hot     0.409579\n",
      "hair    0.347982\n",
      "sex     0.304338\n",
      "Name: 1, dtype: float64\n",
      "Size: 604 \n",
      "\n",
      "football      1.284748\n",
      "basketball    1.243572\n",
      "baseball      1.081549\n",
      "sports        1.021823\n",
      "softball      0.907913\n",
      "Name: 2, dtype: float64\n",
      "Size: 2757 \n",
      "\n",
      "blonde   -0.029295\n",
      "tennis   -0.056646\n",
      "death    -0.077360\n",
      "jesus    -0.077865\n",
      "bible    -0.082311\n",
      "Name: 3, dtype: float64\n",
      "Size: 19604 \n",
      "\n",
      "shopping    1.254484\n",
      "swimming    1.036275\n",
      "hot         0.696373\n",
      "mall        0.666046\n",
      "clothes     0.531079\n",
      "Name: 4, dtype: float64\n",
      "Size: 3259 \n",
      "\n",
      "kissed    3.126791\n",
      "drugs     2.906596\n",
      "hair      2.623564\n",
      "sex       2.136257\n",
      "drunk     1.841827\n",
      "Name: 5, dtype: float64\n",
      "Size: 927 \n",
      "\n",
      "marching    5.785146\n",
      "band        4.583876\n",
      "music       0.609415\n",
      "rock        0.230231\n",
      "football    0.115869\n",
      "Name: 6, dtype: float64\n",
      "Size: 479 \n",
      "\n",
      "dress       3.653653\n",
      "dance       1.214884\n",
      "cute        0.613324\n",
      "shopping    0.490041\n",
      "mall        0.457372\n",
      "Name: 7, dtype: float64\n",
      "Size: 1065 \n",
      "\n",
      "bible     4.578211\n",
      "jesus     3.434402\n",
      "god       3.254897\n",
      "church    2.395587\n",
      "death     0.407683\n",
      "Name: 8, dtype: float64\n",
      "Size: 455 \n",
      "\n"
     ]
    }
   ],
   "source": [
    "## MyKMeans\n",
    "clf = MyKmeans(k=9)\n",
    "\n",
    "start = time()\n",
    "clf.fit(df_sns.values)\n",
    "\n",
    "print(\"time:\", time() - start)\n",
    "print(\"Clasters sizes:\", *np.bincount(clf.labels), \"\\n\")\n",
    "\n",
    "df_sns.loc[:, 'labels'] = clf.labels\n",
    "\n",
    "clusters = df_sns.groupby('labels').mean()\n",
    "sizes = df_sns.groupby('labels').count().values\n",
    "for i in range(9):\n",
    "    print(clusters.loc[i].sort_values(ascending=False).head(5))\n",
    "    print(\"Size:\", sizes[i][0], \"\\n\")"
   ]
  },
  {
   "cell_type": "code",
   "execution_count": 21,
   "metadata": {},
   "outputs": [
    {
     "name": "stderr",
     "output_type": "stream",
     "text": [
      "C:\\Users\\User\\Anaconda3\\lib\\site-packages\\ipykernel_launcher.py:24: RuntimeWarning: invalid value encountered in sqrt\n",
      "C:\\Users\\User\\Anaconda3\\lib\\site-packages\\ipykernel_launcher.py:35: RuntimeWarning: invalid value encountered in less\n"
     ]
    },
    {
     "name": "stdout",
     "output_type": "stream",
     "text": [
      "time: 1.2237262725830078 \n",
      "\n",
      "Clasters sizes: 1684 843 2570 17117 996 1102 780 2290 2618 \n",
      "\n",
      "kissed      1.630139\n",
      "marching    1.598123\n",
      "drugs       1.521385\n",
      "band        1.497569\n",
      "hair        1.285261\n",
      "Name: 0, dtype: float64\n",
      "Size: 1684 \n",
      "\n",
      "hollister      4.183906\n",
      "abercrombie    4.009359\n",
      "shopping       0.778535\n",
      "mall           0.583165\n",
      "clothes        0.564243\n",
      "Name: 1, dtype: float64\n",
      "Size: 843 \n",
      "\n",
      "football      1.282895\n",
      "basketball    1.279413\n",
      "baseball      1.136844\n",
      "sports        1.067408\n",
      "softball      0.953010\n",
      "Name: 2, dtype: float64\n",
      "Size: 2570 \n",
      "\n",
      "blonde     -0.031174\n",
      "tennis     -0.051971\n",
      "bible      -0.081122\n",
      "jesus      -0.081775\n",
      "marching   -0.094208\n",
      "Name: 3, dtype: float64\n",
      "Size: 17117 \n",
      "\n",
      "dress       3.941744\n",
      "cute        0.618625\n",
      "dance       0.573038\n",
      "shopping    0.545275\n",
      "mall        0.490152\n",
      "Name: 4, dtype: float64\n",
      "Size: 996 \n",
      "\n",
      "cheerleading    2.848457\n",
      "sexy            2.498592\n",
      "cute            0.410726\n",
      "hot             0.247126\n",
      "shopping        0.187897\n",
      "Name: 5, dtype: float64\n",
      "Size: 1102 \n",
      "\n",
      "dance       4.089478\n",
      "cute        0.244708\n",
      "music       0.232882\n",
      "shopping    0.224167\n",
      "church      0.171288\n",
      "Name: 6, dtype: float64\n",
      "Size: 780 \n",
      "\n",
      "death    1.813930\n",
      "die      0.862440\n",
      "drunk    0.676761\n",
      "music    0.222238\n",
      "rock     0.175653\n",
      "Name: 7, dtype: float64\n",
      "Size: 2290 \n",
      "\n",
      "shopping    1.371425\n",
      "swimming    1.219183\n",
      "hot         0.780899\n",
      "mall        0.719308\n",
      "clothes     0.599842\n",
      "Name: 8, dtype: float64\n",
      "Size: 2618 \n",
      "\n"
     ]
    }
   ],
   "source": [
    "## MyKMeans++\n",
    "clf = MyKmeans(k=9, init='k-means')\n",
    "\n",
    "start = time()\n",
    "clf.fit(df_sns.values)\n",
    "print(\"time:\", time() - start, \"\\n\")\n",
    "\n",
    "print(\"Clasters sizes:\", *np.bincount(clf.labels), \"\\n\")\n",
    "\n",
    "df_sns.loc[:, 'labels'] = clf.labels\n",
    "\n",
    "clusters = df_sns.groupby('labels').mean()\n",
    "sizes = df_sns.groupby('labels').count().values\n",
    "for i in range(9):\n",
    "    print(clusters.loc[i].sort_values(ascending=False).head(5))\n",
    "    print(\"Size:\", sizes[i][0], \"\\n\")"
   ]
  },
  {
   "cell_type": "code",
   "execution_count": 22,
   "metadata": {},
   "outputs": [
    {
     "name": "stdout",
     "output_type": "stream",
     "text": [
      "time: 0.6522574424743652\n",
      "Clasters sizes: 17652 346 1827 834 1389 5751 496 1242 463 \n",
      "\n",
      "blonde         -0.028915\n",
      "cheerleading   -0.032084\n",
      "sexy           -0.046060\n",
      "tennis         -0.048393\n",
      "soccer         -0.063016\n",
      "Name: 0, dtype: float64\n",
      "Size: 17652 \n",
      "\n",
      "volleyball    7.015965\n",
      "basketball    0.598008\n",
      "sports        0.359348\n",
      "shopping      0.342572\n",
      "softball      0.340804\n",
      "Name: 1, dtype: float64\n",
      "Size: 346 \n",
      "\n",
      "dress    2.256994\n",
      "music    0.796294\n",
      "rock     0.677314\n",
      "dance    0.227032\n",
      "cute     0.212217\n",
      "Name: 2, dtype: float64\n",
      "Size: 1827 \n",
      "\n",
      "kissed    3.345038\n",
      "drugs     3.212044\n",
      "hair      2.680560\n",
      "sex       2.383517\n",
      "drunk     2.011704\n",
      "Name: 3, dtype: float64\n",
      "Size: 834 \n",
      "\n",
      "baseball      2.217880\n",
      "football      2.130723\n",
      "basketball    1.453536\n",
      "sports        1.414554\n",
      "soccer        0.637017\n",
      "Name: 4, dtype: float64\n",
      "Size: 1389 \n",
      "\n",
      "death       0.687514\n",
      "shopping    0.589514\n",
      "swimming    0.507218\n",
      "dance       0.500132\n",
      "hot         0.348358\n",
      "Name: 5, dtype: float64\n",
      "Size: 5751 \n",
      "\n",
      "bible     4.063079\n",
      "god       3.424008\n",
      "jesus     3.245493\n",
      "church    2.259993\n",
      "death     0.324671\n",
      "Name: 6, dtype: float64\n",
      "Size: 496 \n",
      "\n",
      "hollister      2.610228\n",
      "abercrombie    2.475321\n",
      "marching       2.048915\n",
      "band           1.603343\n",
      "shopping       0.454126\n",
      "Name: 7, dtype: float64\n",
      "Size: 1242 \n",
      "\n",
      "softball      6.196969\n",
      "basketball    0.757488\n",
      "sports        0.601510\n",
      "volleyball    0.454716\n",
      "football      0.208785\n",
      "Name: 8, dtype: float64\n",
      "Size: 463 \n",
      "\n"
     ]
    }
   ],
   "source": [
    "## MyKMeans с MiniBatchMyKMeans\n",
    "clf = MiniBatchKMeans(k=9, batch_size=200)\n",
    "\n",
    "start = time()\n",
    "clf.fit(df_sns.values)\n",
    "print(\"time:\", time() - start)\n",
    "\n",
    "print(\"Clasters sizes:\", *np.bincount(clf.labels), \"\\n\")\n",
    "\n",
    "df_sns.loc[:, 'labels'] = clf.labels\n",
    "\n",
    "clusters = df_sns.groupby('labels').mean()\n",
    "sizes = df_sns.groupby('labels').count().values\n",
    "for i in range(9):\n",
    "    print(clusters.loc[i].sort_values(ascending=False).head(5))\n",
    "    print(\"Size:\", sizes[i][0], \"\\n\")"
   ]
  },
  {
   "cell_type": "code",
   "execution_count": 23,
   "metadata": {},
   "outputs": [
    {
     "name": "stderr",
     "output_type": "stream",
     "text": [
      "C:\\Users\\User\\Anaconda3\\lib\\site-packages\\ipykernel_launcher.py:24: RuntimeWarning: invalid value encountered in sqrt\n",
      "C:\\Users\\User\\Anaconda3\\lib\\site-packages\\ipykernel_launcher.py:35: RuntimeWarning: invalid value encountered in less\n"
     ]
    },
    {
     "name": "stdout",
     "output_type": "stream",
     "text": [
      "time: 0.5555152893066406\n",
      "Clasters sizes: 17453 641 1772 903 1395 5555 523 1254 504 \n",
      "\n",
      "blonde         -0.029372\n",
      "cheerleading   -0.033205\n",
      "sexy           -0.046358\n",
      "tennis         -0.048127\n",
      "soccer         -0.064588\n",
      "Name: 0, dtype: float64\n",
      "Size: 17453 \n",
      "\n",
      "volleyball    5.107838\n",
      "basketball    0.489784\n",
      "sports        0.216190\n",
      "shopping      0.206160\n",
      "football      0.197454\n",
      "Name: 1, dtype: float64\n",
      "Size: 641 \n",
      "\n",
      "dress    2.307087\n",
      "music    0.802345\n",
      "rock     0.654768\n",
      "dance    0.227954\n",
      "cute     0.217227\n",
      "Name: 2, dtype: float64\n",
      "Size: 1772 \n",
      "\n",
      "kissed    3.156575\n",
      "drugs     3.091059\n",
      "hair      2.608712\n",
      "sex       2.291629\n",
      "drunk     2.132480\n",
      "Name: 3, dtype: float64\n",
      "Size: 903 \n",
      "\n",
      "baseball      2.256939\n",
      "football      2.154574\n",
      "basketball    1.435166\n",
      "sports        1.414801\n",
      "soccer        0.630888\n",
      "Name: 4, dtype: float64\n",
      "Size: 1395 \n",
      "\n",
      "death       0.688853\n",
      "shopping    0.577557\n",
      "swimming    0.487976\n",
      "dance       0.486707\n",
      "cute        0.335043\n",
      "Name: 5, dtype: float64\n",
      "Size: 5555 \n",
      "\n",
      "bible     3.847940\n",
      "god       3.492702\n",
      "jesus     3.117302\n",
      "church    2.329703\n",
      "death     0.364448\n",
      "Name: 6, dtype: float64\n",
      "Size: 523 \n",
      "\n",
      "hollister      2.599419\n",
      "abercrombie    2.484113\n",
      "marching       2.036288\n",
      "band           1.609672\n",
      "shopping       0.472638\n",
      "Name: 7, dtype: float64\n",
      "Size: 1254 \n",
      "\n",
      "softball      6.045283\n",
      "basketball    0.710758\n",
      "sports        0.557890\n",
      "volleyball    0.427434\n",
      "shopping      0.219363\n",
      "Name: 8, dtype: float64\n",
      "Size: 504 \n",
      "\n"
     ]
    }
   ],
   "source": [
    "## MyKMeans++ с MiniBatchMyKMeans\n",
    "clf = MiniBatchKMeans(k=9, init='k-means', batch_size=200)\n",
    "\n",
    "start = time()\n",
    "clf.fit(df_sns.values)\n",
    "print(\"time:\", time() - start)\n",
    "\n",
    "print(\"Clasters sizes:\", *np.bincount(clf.labels), \"\\n\")\n",
    "\n",
    "df_sns.loc[:, 'labels'] = clf.labels\n",
    "\n",
    "clusters = df_sns.groupby('labels').mean()\n",
    "sizes = df_sns.groupby('labels').count().values\n",
    "for i in range(9):\n",
    "    print(clusters.loc[i].sort_values(ascending=False).head(5))\n",
    "    print(\"Size:\", sizes[i][0], \"\\n\")"
   ]
  },
  {
   "cell_type": "markdown",
   "metadata": {},
   "source": [
    "## Вывод\n",
    "В принципе кластеры хорошо интерпретируются на всех алгоритмах. Отчётливо видны кластеры: спортсмены, верующие, музыканты и т.д."
   ]
  },
  {
   "cell_type": "markdown",
   "metadata": {},
   "source": [
    "kmeans++ Даёт лучшую начальную инициализацию, но просаживает алгоритм по скорости, потому что приходится просчитывать много раз расстояния для всей выборки. MiniBatchKMenans наоборот даёт прирост в скорости, но занижает качество кластеризации, так как на каждой итерации алгоритма мы работаем только с частью выборки. Все алгоритмы хороши, и использовать их нужно по ситуации. Однако, kmeans++ нужно использовать (как мне кажется) практически всегда, так как он в разы лучше, чем рандомная инициализация, что покрывает его минус в незначительной потери в скорости работы. MiniBatchKmeans - палка о двух концах, исопльзовать осторожно."
   ]
  }
 ],
 "metadata": {
  "anaconda-cloud": {},
  "kernelspec": {
   "display_name": "Python 3",
   "language": "python",
   "name": "python3"
  },
  "language_info": {
   "codemirror_mode": {
    "name": "ipython",
    "version": 3
   },
   "file_extension": ".py",
   "mimetype": "text/x-python",
   "name": "python",
   "nbconvert_exporter": "python",
   "pygments_lexer": "ipython3",
   "version": "3.6.5"
  },
  "nav_menu": {},
  "toc": {
   "navigate_menu": true,
   "number_sections": false,
   "sideBar": true,
   "threshold": 6,
   "toc_cell": false,
   "toc_section_display": "block",
   "toc_window_display": true
  }
 },
 "nbformat": 4,
 "nbformat_minor": 2
}
