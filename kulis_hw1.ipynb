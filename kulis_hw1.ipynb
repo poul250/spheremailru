{
 "cells": [
  {
   "cell_type": "markdown",
   "metadata": {},
   "source": [
    "**Общая информация**\n",
    "\n",
    "**Срок сдачи:** 18 октября 2017, 06:00 <br\\>\n",
    "**Штраф за опоздание:** -2 балла после 06:00 18 октября, -4 балла после 06:00 25 октября, -6 баллов после 06:00 1 ноября\n",
    "\n",
    "При отправлении ДЗ указывайте фамилию в названии файла\n",
    "Присылать ДЗ необходимо в виде ссылки на свой github репозиторий в slack @alkhamush\n",
    "\n",
    "Необходимо в slack создать таск в приватный чат:\n",
    "/todo Фамилия Имя ссылка на гитхаб @alkhamush\n",
    "Пример:\n",
    "/todo Ксения Стройкова https://github.com/stroykova/spheremailru/stroykova_hw1.ipynb @alkhamush\n",
    "Дополнительно нужно просто скинуть ссылку в slack в личный чат\n",
    "\n",
    "Используйте данный Ipython Notebook при оформлении домашнего задания."
   ]
  },
  {
   "cell_type": "markdown",
   "metadata": {},
   "source": [
    "###### Задание 1 (2 баллов)\n",
    "Реализовать KNN в классе MyKNeighborsClassifier (обязательное условие: точность не ниже sklearn реализации)\n",
    "Разберитесь самостоятельно, какая мера расстояния используется в KNeighborsClassifier дефолтно и реализуйте свой алгоритм именно с этой мерой. Самостоятельно разберитесь, как считается score из KNeighborsClassifier и реализуйте аналог в своём классе. Score не должен уступать значению KNN из sklearn\n",
    "\n",
    "###### Задание 2 (2 балла)\n",
    "Добиться скорости работы на fit,  predict и predict_proba сравнимой со sklearn для iris и mnist\n",
    "Для этого используем numpy\n",
    "\n",
    "###### Задание 3 (2 балла)\n",
    "Для iris найдите такой параметр n_neighbors, при котором выдаётся наилучший score. Нарисуйте график зависимости score от n_neighbors\n",
    "\n",
    "###### Задание 4 (3 балла)\n",
    "Добавить algorithm='kd_tree' в реализацию KNN (использовать KDTree из sklearn.neighbors). Значение n_neighbors нужно взять из задания 3. Добиться скорости работы на fit,  predict и predict_proba сравнимой со sklearn для iris и mnist\n",
    "Для этого используем numpy. Score не должен уступать значению KNN из sklearn\n",
    "\n",
    "###### Задание 5 (1 балла)\n",
    "Описать для чего нужны следующие библиотеки/классы/функции (список будет ниже)\n",
    "\n",
    "**Штрафные баллы:**\n",
    "\n",
    "1. Невыполнение PEP8 -1 балл\n",
    "2. Отсутствие фамилии в имени скрипта (скрипт должен называться по аналогии со stroykova_hw1.ipynb) -1 балл\n",
    "3. Все строчки должны быть выполнены. Нужно, чтобы output команды можно было увидеть уже в git'е. В противном случае -1 балл\n",
    "4. При оформлении ДЗ нужно пользоваться данным файлом в качестве шаблона. Не нужно удалять и видоизменять структуру кода и текст. В противном случае -1 балл\n"
   ]
  },
  {
   "cell_type": "code",
   "execution_count": 7,
   "metadata": {},
   "outputs": [
    {
     "name": "stdout",
     "output_type": "stream",
     "text": [
      "The pycodestyle_magic extension is already loaded. To reload it, use:\n",
      "  %reload_ext pycodestyle_magic\n"
     ]
    }
   ],
   "source": [
    "import numpy as np\n",
    "import matplotlib.pyplot as plt\n",
    "\n",
    "import seaborn as sns\n",
    "from sklearn import datasets\n",
    "from sklearn.base import ClassifierMixin\n",
    "from sklearn.datasets import fetch_mldata\n",
    "from sklearn.neighbors.base import NeighborsBase, KNeighborsMixin, SupervisedIntegerMixin \n",
    "from sklearn.model_selection import train_test_split\n",
    "from sklearn.neighbors import KNeighborsClassifier, KDTree\n",
    "%load_ext pycodestyle_magic"
   ]
  },
  {
   "cell_type": "code",
   "execution_count": 12,
   "metadata": {},
   "outputs": [],
   "source": [
    "# %%pycodestyle\n",
    "\n",
    "\n",
    "class MyKNeighborsClassifier(NeighborsBase, KNeighborsMixin,\n",
    "                             SupervisedIntegerMixin, ClassifierMixin):\n",
    "\n",
    "    def __init__(self, n_neighbors, algorithm='brute'):\n",
    "        self._n_neighbors = n_neighbors\n",
    "        self._algorithm = algorithm\n",
    "\n",
    "    def fit(self, X, y):\n",
    "        if self._algorithm == 'brute':\n",
    "            self._data = np.array(X, dtype=np.float64)\n",
    "            self._labels = np.array(y, dtype=np.int64)\n",
    "        elif self._algorithm == 'kd_tree':\n",
    "            self._tree = KDTree(X)\n",
    "            self._labels = np.array(y, dtype=np.int64)\n",
    "\n",
    "        self._unique = np.unique(self._labels)\n",
    "        self._numclasses = self._unique.size\n",
    "\n",
    "    def brute_proba(self, x):\n",
    "        dists = np.sum((self._data - x) ** 2, axis=1) ** 0.5\n",
    "        labels = self._labels[np.argsort(dists)[:self._n_neighbors]]\n",
    "        return np.bincount(labels, minlength=self._numclasses)\n",
    "\n",
    "    def predict(self, X):\n",
    "        if self._algorithm == 'brute':\n",
    "            ans = np.zeros(len(X))\n",
    "            for i, x in enumerate(X):\n",
    "                ans[i] = self.brute_proba(x).argmax()\n",
    "            return ans\n",
    "        elif self._algorithm == 'kd_tree':\n",
    "            dist, ind = self._tree.query(X, k=self._n_neighbors)\n",
    "        return np.apply_along_axis(lambda x: np.bincount(x).argmax(),\n",
    "                                   1, self._labels[ind])\n",
    "\n",
    "    def predict_proba(self, X):\n",
    "        if self._algorithm == 'brute':\n",
    "            ans = np.zeros((len(X), self._numclasses))\n",
    "            for i, x in enumerate(X):\n",
    "                ans[i] = self.brute_proba(x) / self._n_neighbors\n",
    "            return ans\n",
    "        elif self._algorithm == 'kd_tree':\n",
    "            dist, ind = self._tree.query(X, k=self._n_neighbors)\n",
    "            ans = []\n",
    "            for i in ind:\n",
    "                ans.append(np.bincount(self._labels[i],\n",
    "                                       minlength=self._numclasses)\n",
    "                           / self._n_neighbors)\n",
    "            return np.array(ans)\n",
    "\n",
    "    def score(self, X, y):\n",
    "        Y = self.predict(X)\n",
    "        return np.mean(y == Y)"
   ]
  },
  {
   "cell_type": "markdown",
   "metadata": {},
   "source": [
    "###### **IRIS**"
   ]
  },
  {
   "cell_type": "code",
   "execution_count": 13,
   "metadata": {},
   "outputs": [],
   "source": [
    "iris = datasets.load_iris()"
   ]
  },
  {
   "cell_type": "code",
   "execution_count": 14,
   "metadata": {},
   "outputs": [],
   "source": [
    "X_train, X_test, y_train, y_test = train_test_split(iris.data, iris.target, test_size=0.1, stratify=iris.target)"
   ]
  },
  {
   "cell_type": "code",
   "execution_count": 15,
   "metadata": {},
   "outputs": [],
   "source": [
    "clf = KNeighborsClassifier(n_neighbors=2)\n",
    "my_clf = MyKNeighborsClassifier(n_neighbors=2)"
   ]
  },
  {
   "cell_type": "code",
   "execution_count": 16,
   "metadata": {},
   "outputs": [
    {
     "name": "stdout",
     "output_type": "stream",
     "text": [
      "Wall time: 0 ns\n"
     ]
    },
    {
     "data": {
      "text/plain": [
       "KNeighborsClassifier(algorithm='auto', leaf_size=30, metric='minkowski',\n",
       "           metric_params=None, n_jobs=1, n_neighbors=2, p=2,\n",
       "           weights='uniform')"
      ]
     },
     "execution_count": 16,
     "metadata": {},
     "output_type": "execute_result"
    }
   ],
   "source": [
    "%time clf.fit(X_train, y_train)"
   ]
  },
  {
   "cell_type": "code",
   "execution_count": 17,
   "metadata": {},
   "outputs": [
    {
     "name": "stdout",
     "output_type": "stream",
     "text": [
      "Wall time: 0 ns\n"
     ]
    }
   ],
   "source": [
    "%time my_clf.fit(X_train, y_train)"
   ]
  },
  {
   "cell_type": "code",
   "execution_count": 18,
   "metadata": {},
   "outputs": [
    {
     "name": "stdout",
     "output_type": "stream",
     "text": [
      "Wall time: 1 ms\n"
     ]
    },
    {
     "data": {
      "text/plain": [
       "array([1, 2, 0, 2, 2, 0, 2, 2, 1, 2, 1, 0, 0, 1, 0])"
      ]
     },
     "execution_count": 18,
     "metadata": {},
     "output_type": "execute_result"
    }
   ],
   "source": [
    "%time clf.predict(X_test)"
   ]
  },
  {
   "cell_type": "code",
   "execution_count": 19,
   "metadata": {},
   "outputs": [
    {
     "name": "stdout",
     "output_type": "stream",
     "text": [
      "Wall time: 1 ms\n"
     ]
    },
    {
     "data": {
      "text/plain": [
       "array([1., 2., 0., 2., 2., 0., 2., 2., 1., 2., 1., 0., 0., 1., 0.])"
      ]
     },
     "execution_count": 19,
     "metadata": {},
     "output_type": "execute_result"
    }
   ],
   "source": [
    "%time my_clf.predict(X_test)"
   ]
  },
  {
   "cell_type": "code",
   "execution_count": 20,
   "metadata": {},
   "outputs": [
    {
     "name": "stdout",
     "output_type": "stream",
     "text": [
      "Wall time: 973 µs\n"
     ]
    },
    {
     "data": {
      "text/plain": [
       "array([[0., 1., 0.],\n",
       "       [0., 0., 1.],\n",
       "       [1., 0., 0.],\n",
       "       [0., 0., 1.],\n",
       "       [0., 0., 1.],\n",
       "       [1., 0., 0.],\n",
       "       [0., 0., 1.],\n",
       "       [0., 0., 1.],\n",
       "       [0., 1., 0.],\n",
       "       [0., 0., 1.],\n",
       "       [0., 1., 0.],\n",
       "       [1., 0., 0.],\n",
       "       [1., 0., 0.],\n",
       "       [0., 1., 0.],\n",
       "       [1., 0., 0.]])"
      ]
     },
     "execution_count": 20,
     "metadata": {},
     "output_type": "execute_result"
    }
   ],
   "source": [
    "%time clf.predict_proba(X_test)"
   ]
  },
  {
   "cell_type": "code",
   "execution_count": 21,
   "metadata": {},
   "outputs": [
    {
     "name": "stdout",
     "output_type": "stream",
     "text": [
      "Wall time: 1 ms\n"
     ]
    },
    {
     "data": {
      "text/plain": [
       "array([[0., 1., 0.],\n",
       "       [0., 0., 1.],\n",
       "       [1., 0., 0.],\n",
       "       [0., 0., 1.],\n",
       "       [0., 0., 1.],\n",
       "       [1., 0., 0.],\n",
       "       [0., 0., 1.],\n",
       "       [0., 0., 1.],\n",
       "       [0., 1., 0.],\n",
       "       [0., 0., 1.],\n",
       "       [0., 1., 0.],\n",
       "       [1., 0., 0.],\n",
       "       [1., 0., 0.],\n",
       "       [0., 1., 0.],\n",
       "       [1., 0., 0.]])"
      ]
     },
     "execution_count": 21,
     "metadata": {},
     "output_type": "execute_result"
    }
   ],
   "source": [
    "%time my_clf.predict_proba(X_test)"
   ]
  },
  {
   "cell_type": "code",
   "execution_count": 22,
   "metadata": {},
   "outputs": [
    {
     "data": {
      "text/plain": [
       "0.9333333333333333"
      ]
     },
     "execution_count": 22,
     "metadata": {},
     "output_type": "execute_result"
    }
   ],
   "source": [
    "clf.score(X_test, y_test)"
   ]
  },
  {
   "cell_type": "code",
   "execution_count": 23,
   "metadata": {},
   "outputs": [
    {
     "data": {
      "text/plain": [
       "0.9333333333333333"
      ]
     },
     "execution_count": 23,
     "metadata": {},
     "output_type": "execute_result"
    }
   ],
   "source": [
    "my_clf.score(X_test, y_test)"
   ]
  },
  {
   "cell_type": "markdown",
   "metadata": {},
   "source": [
    "Задание 3"
   ]
  },
  {
   "cell_type": "code",
   "execution_count": 24,
   "metadata": {},
   "outputs": [
    {
     "data": {
      "image/png": "[encoded data removed]",
      "text/plain": [
       "<Figure size 432x288 with 1 Axes>"
      ]
     },
     "metadata": {},
     "output_type": "display_data"
    }
   ],
   "source": [
    "MAX_NEIGHBORS = 30\n",
    "NUM_ITERATIONS = 1000\n",
    "\n",
    "results = [0]\n",
    "for neighbors in range(1, MAX_NEIGHBORS + 1):\n",
    "    sum = 0\n",
    "    for it in range(NUM_ITERATIONS):\n",
    "        X_train, X_test, y_train, y_test = train_test_split(iris.data, iris.target, test_size=0.1, stratify=iris.target)\n",
    "        clf = MyKNeighborsClassifier(n_neighbors=neighbors)\n",
    "        clf.fit(X_train, y_train)\n",
    "        sum += clf.score(X_test, y_test)\n",
    "    results.append(sum / NUM_ITERATIONS)\n",
    "best_num = np.argmax(results)\n",
    "plt.plot(range(1, MAX_NEIGHBORS + 1), results[1:])\n",
    "plt.show()"
   ]
  },
  {
   "cell_type": "markdown",
   "metadata": {},
   "source": [
    "**MNIST**"
   ]
  },
  {
   "cell_type": "code",
   "execution_count": 25,
   "metadata": {},
   "outputs": [],
   "source": [
    "mnist = fetch_mldata('MNIST original')"
   ]
  },
  {
   "cell_type": "code",
   "execution_count": 26,
   "metadata": {},
   "outputs": [],
   "source": [
    "X_train, X_test, y_train, y_test = train_test_split(mnist.data, mnist.target, test_size=0.01, stratify=mnist.target)"
   ]
  },
  {
   "cell_type": "code",
   "execution_count": 27,
   "metadata": {},
   "outputs": [],
   "source": [
    "clf = KNeighborsClassifier(n_neighbors=2)\n",
    "my_clf = MyKNeighborsClassifier(n_neighbors=2)"
   ]
  },
  {
   "cell_type": "code",
   "execution_count": 28,
   "metadata": {},
   "outputs": [
    {
     "name": "stdout",
     "output_type": "stream",
     "text": [
      "Wall time: 27.9 s\n"
     ]
    },
    {
     "data": {
      "text/plain": [
       "KNeighborsClassifier(algorithm='auto', leaf_size=30, metric='minkowski',\n",
       "           metric_params=None, n_jobs=1, n_neighbors=2, p=2,\n",
       "           weights='uniform')"
      ]
     },
     "execution_count": 28,
     "metadata": {},
     "output_type": "execute_result"
    }
   ],
   "source": [
    "%time clf.fit(X_train, y_train)"
   ]
  },
  {
   "cell_type": "code",
   "execution_count": 29,
   "metadata": {},
   "outputs": [
    {
     "name": "stdout",
     "output_type": "stream",
     "text": [
      "Wall time: 169 ms\n"
     ]
    }
   ],
   "source": [
    "%time my_clf.fit(X_train, y_train)"
   ]
  },
  {
   "cell_type": "code",
   "execution_count": 30,
   "metadata": {},
   "outputs": [
    {
     "name": "stdout",
     "output_type": "stream",
     "text": [
      "Wall time: 1min 8s\n"
     ]
    },
    {
     "data": {
      "text/plain": [
       "array([8., 3., 4., 1., 6., 5., 9., 7., 8., 9., 7., 7., 6., 0., 4., 7., 3.,\n",
       "       4., 0., 0., 1., 0., 9., 9., 4., 4., 1., 3., 7., 2., 9., 7., 8., 3.,\n",
       "       3., 7., 8., 0., 1., 3., 2., 0., 7., 0., 2., 5., 5., 6., 6., 2., 3.,\n",
       "       7., 1., 3., 7., 8., 2., 6., 9., 0., 8., 6., 4., 1., 2., 9., 2., 1.,\n",
       "       3., 6., 5., 4., 7., 2., 2., 2., 8., 8., 6., 3., 3., 2., 4., 0., 5.,\n",
       "       7., 8., 0., 0., 2., 9., 4., 7., 5., 8., 7., 4., 1., 4., 9., 6., 9.,\n",
       "       4., 0., 9., 9., 4., 6., 7., 3., 4., 3., 5., 8., 9., 6., 1., 6., 3.,\n",
       "       1., 8., 8., 9., 8., 3., 3., 5., 7., 0., 4., 9., 1., 6., 3., 4., 7.,\n",
       "       0., 1., 9., 9., 8., 5., 3., 7., 1., 2., 8., 6., 9., 8., 6., 5., 1.,\n",
       "       9., 2., 3., 0., 6., 4., 1., 2., 4., 9., 4., 7., 8., 6., 1., 2., 5.,\n",
       "       0., 4., 2., 7., 9., 0., 8., 4., 7., 5., 4., 1., 5., 2., 4., 7., 7.,\n",
       "       0., 1., 8., 0., 5., 3., 2., 1., 3., 6., 0., 1., 5., 6., 6., 7., 9.,\n",
       "       5., 0., 4., 0., 2., 9., 2., 6., 9., 8., 2., 8., 7., 4., 9., 3., 7.,\n",
       "       0., 9., 8., 1., 1., 1., 3., 2., 3., 5., 8., 4., 0., 5., 0., 5., 0.,\n",
       "       1., 1., 8., 8., 4., 7., 4., 4., 4., 6., 8., 2., 9., 2., 6., 1., 6.,\n",
       "       7., 0., 8., 7., 4., 1., 2., 4., 8., 3., 2., 0., 3., 2., 8., 0., 0.,\n",
       "       0., 2., 7., 5., 7., 7., 0., 4., 0., 6., 8., 0., 5., 6., 1., 3., 7.,\n",
       "       5., 8., 4., 2., 9., 2., 2., 6., 7., 7., 6., 3., 3., 6., 0., 0., 1.,\n",
       "       8., 8., 7., 8., 1., 5., 6., 5., 1., 4., 6., 6., 2., 1., 6., 3., 6.,\n",
       "       3., 7., 3., 2., 3., 2., 7., 4., 3., 2., 7., 3., 6., 6., 5., 8., 1.,\n",
       "       8., 9., 3., 4., 0., 4., 3., 3., 5., 3., 4., 0., 2., 7., 1., 2., 5.,\n",
       "       0., 7., 0., 1., 2., 0., 4., 1., 1., 5., 9., 0., 8., 0., 4., 0., 8.,\n",
       "       0., 6., 8., 2., 2., 6., 2., 1., 8., 6., 7., 0., 5., 1., 3., 9., 7.,\n",
       "       4., 0., 2., 5., 2., 6., 4., 6., 7., 7., 4., 7., 5., 5., 7., 1., 5.,\n",
       "       9., 2., 5., 0., 5., 3., 6., 7., 1., 8., 9., 1., 9., 0., 1., 3., 5.,\n",
       "       8., 4., 5., 8., 9., 3., 8., 3., 7., 4., 0., 3., 3., 5., 8., 0., 2.,\n",
       "       0., 4., 2., 6., 9., 1., 3., 1., 9., 5., 9., 5., 5., 0., 6., 1., 7.,\n",
       "       9., 0., 4., 7., 2., 9., 0., 1., 8., 1., 5., 3., 0., 0., 2., 5., 8.,\n",
       "       6., 6., 2., 3., 9., 9., 9., 3., 2., 0., 3., 5., 9., 0., 8., 3., 5.,\n",
       "       5., 6., 2., 8., 5., 0., 6., 2., 2., 5., 7., 7., 9., 1., 2., 3., 8.,\n",
       "       0., 0., 4., 4., 7., 0., 3., 1., 8., 6., 6., 0., 1., 1., 5., 5., 1.,\n",
       "       9., 9., 4., 1., 1., 0., 7., 2., 3., 8., 5., 3., 1., 3., 1., 4., 3.,\n",
       "       3., 4., 8., 4., 1., 9., 1., 7., 6., 3., 7., 4., 5., 6., 0., 3., 7.,\n",
       "       7., 8., 7., 4., 1., 9., 9., 7., 9., 5., 5., 5., 4., 1., 9., 5., 6.,\n",
       "       6., 2., 3., 1., 5., 9., 8., 4., 0., 3., 5., 2., 2., 1., 9., 3., 1.,\n",
       "       3., 0., 6., 6., 3., 1., 1., 2., 8., 0., 7., 8., 9., 1., 9., 3., 4.,\n",
       "       7., 5., 9., 6., 4., 9., 9., 8., 9., 2., 4., 2., 4., 4., 7., 4., 9.,\n",
       "       9., 5., 3., 2., 3., 3., 2., 9., 0., 4., 6., 1., 4., 3., 8., 5., 1.,\n",
       "       1., 6., 1., 2., 9., 6., 3., 3., 6., 1., 8., 6., 9., 5., 1., 4., 7.,\n",
       "       9., 1., 9., 2., 1., 6., 3., 3., 6., 7., 7., 4., 0., 3., 2., 6., 6.,\n",
       "       0., 1., 2., 4., 2., 1., 1., 5., 7., 7., 6., 1., 1., 7., 7., 4., 9.,\n",
       "       1., 8., 3.])"
      ]
     },
     "execution_count": 30,
     "metadata": {},
     "output_type": "execute_result"
    }
   ],
   "source": [
    "%time clf.predict(X_test)"
   ]
  },
  {
   "cell_type": "code",
   "execution_count": 31,
   "metadata": {},
   "outputs": [
    {
     "name": "stdout",
     "output_type": "stream",
     "text": [
      "Wall time: 5min 53s\n"
     ]
    },
    {
     "data": {
      "text/plain": [
       "array([8., 3., 4., 1., 6., 5., 9., 7., 8., 9., 7., 7., 6., 0., 4., 7., 3.,\n",
       "       4., 0., 0., 1., 0., 9., 9., 4., 4., 1., 3., 7., 2., 9., 7., 8., 3.,\n",
       "       3., 7., 8., 0., 1., 3., 2., 0., 7., 0., 2., 5., 5., 6., 6., 2., 3.,\n",
       "       7., 1., 3., 7., 8., 2., 6., 9., 0., 8., 6., 4., 1., 2., 9., 2., 1.,\n",
       "       3., 6., 5., 4., 7., 2., 2., 2., 8., 8., 6., 3., 3., 2., 4., 0., 5.,\n",
       "       7., 8., 0., 0., 2., 9., 4., 7., 5., 8., 7., 4., 1., 4., 9., 6., 9.,\n",
       "       4., 0., 9., 9., 4., 6., 7., 3., 4., 3., 5., 8., 9., 6., 1., 6., 3.,\n",
       "       1., 8., 8., 9., 8., 3., 3., 5., 7., 0., 4., 9., 1., 6., 3., 4., 7.,\n",
       "       0., 1., 9., 9., 8., 5., 3., 7., 1., 2., 8., 6., 9., 8., 6., 5., 1.,\n",
       "       9., 2., 3., 0., 6., 4., 1., 2., 4., 9., 4., 7., 8., 6., 1., 2., 5.,\n",
       "       0., 4., 2., 7., 9., 0., 8., 4., 7., 5., 4., 1., 5., 2., 4., 7., 7.,\n",
       "       0., 1., 8., 0., 5., 3., 2., 1., 3., 6., 0., 1., 5., 6., 6., 7., 9.,\n",
       "       5., 0., 4., 0., 2., 9., 2., 6., 9., 8., 2., 8., 7., 4., 9., 3., 7.,\n",
       "       0., 9., 8., 1., 1., 1., 3., 2., 3., 5., 8., 4., 0., 5., 0., 5., 0.,\n",
       "       1., 1., 8., 8., 4., 7., 4., 4., 4., 6., 8., 2., 9., 2., 6., 1., 6.,\n",
       "       7., 0., 8., 7., 4., 1., 2., 4., 8., 3., 2., 0., 3., 2., 8., 0., 0.,\n",
       "       0., 2., 7., 5., 7., 7., 0., 4., 0., 6., 8., 0., 5., 6., 1., 3., 7.,\n",
       "       5., 8., 4., 2., 9., 2., 2., 6., 7., 7., 6., 3., 3., 6., 0., 0., 1.,\n",
       "       8., 8., 7., 8., 1., 5., 6., 5., 1., 4., 6., 6., 2., 1., 6., 3., 6.,\n",
       "       3., 7., 3., 2., 3., 2., 7., 4., 3., 2., 7., 3., 6., 6., 5., 8., 1.,\n",
       "       8., 9., 3., 4., 0., 4., 3., 3., 5., 3., 4., 0., 2., 7., 1., 2., 5.,\n",
       "       0., 7., 0., 1., 2., 0., 4., 1., 1., 5., 9., 0., 8., 0., 4., 0., 8.,\n",
       "       0., 6., 8., 2., 2., 6., 2., 1., 8., 6., 7., 0., 5., 1., 3., 9., 7.,\n",
       "       4., 0., 2., 5., 2., 6., 4., 6., 7., 7., 4., 7., 5., 5., 7., 1., 5.,\n",
       "       9., 2., 5., 0., 5., 3., 6., 7., 1., 8., 9., 1., 9., 0., 1., 3., 5.,\n",
       "       8., 4., 5., 8., 9., 3., 8., 3., 7., 4., 0., 3., 3., 5., 8., 0., 2.,\n",
       "       0., 4., 2., 6., 9., 1., 3., 1., 9., 5., 9., 5., 5., 0., 6., 1., 7.,\n",
       "       9., 0., 4., 7., 2., 9., 0., 1., 8., 1., 5., 3., 0., 0., 2., 5., 8.,\n",
       "       6., 6., 2., 3., 9., 9., 9., 3., 2., 0., 3., 5., 9., 0., 8., 3., 5.,\n",
       "       5., 6., 2., 8., 5., 0., 6., 2., 2., 5., 7., 7., 9., 1., 2., 3., 8.,\n",
       "       0., 0., 4., 4., 7., 0., 3., 1., 8., 6., 6., 0., 1., 1., 5., 5., 1.,\n",
       "       9., 9., 4., 1., 1., 0., 7., 2., 3., 8., 5., 3., 1., 3., 1., 4., 3.,\n",
       "       3., 4., 8., 4., 1., 9., 1., 7., 6., 3., 7., 4., 5., 6., 0., 3., 7.,\n",
       "       7., 8., 7., 4., 1., 9., 9., 7., 9., 5., 5., 5., 4., 1., 9., 5., 6.,\n",
       "       6., 2., 3., 1., 5., 9., 8., 4., 0., 3., 5., 2., 2., 1., 9., 3., 1.,\n",
       "       3., 0., 6., 6., 3., 1., 1., 2., 8., 0., 7., 8., 9., 1., 9., 3., 4.,\n",
       "       7., 5., 9., 6., 4., 9., 9., 8., 9., 2., 4., 2., 4., 4., 7., 4., 9.,\n",
       "       9., 5., 3., 2., 3., 3., 2., 9., 0., 4., 6., 1., 4., 3., 8., 5., 1.,\n",
       "       1., 6., 1., 2., 9., 6., 3., 3., 6., 1., 8., 6., 9., 5., 1., 4., 7.,\n",
       "       9., 1., 9., 2., 1., 6., 3., 3., 6., 7., 7., 4., 0., 3., 2., 6., 6.,\n",
       "       0., 1., 2., 4., 2., 1., 1., 5., 7., 7., 6., 1., 1., 7., 7., 4., 9.,\n",
       "       1., 8., 3.])"
      ]
     },
     "execution_count": 31,
     "metadata": {},
     "output_type": "execute_result"
    }
   ],
   "source": [
    "%time my_clf.predict(X_test)"
   ]
  },
  {
   "cell_type": "code",
   "execution_count": 32,
   "metadata": {},
   "outputs": [
    {
     "name": "stdout",
     "output_type": "stream",
     "text": [
      "Wall time: 1min 8s\n"
     ]
    },
    {
     "data": {
      "text/plain": [
       "array([[0., 0., 0., ..., 0., 1., 0.],\n",
       "       [0., 0., 0., ..., 0., 0., 0.],\n",
       "       [0., 0., 0., ..., 0., 0., 0.],\n",
       "       ...,\n",
       "       [0., 1., 0., ..., 0., 0., 0.],\n",
       "       [0., 0., 0., ..., 0., 1., 0.],\n",
       "       [0., 0., 0., ..., 0., 0., 0.]])"
      ]
     },
     "execution_count": 32,
     "metadata": {},
     "output_type": "execute_result"
    }
   ],
   "source": [
    "%time clf.predict_proba(X_test)"
   ]
  },
  {
   "cell_type": "code",
   "execution_count": 33,
   "metadata": {},
   "outputs": [
    {
     "name": "stdout",
     "output_type": "stream",
     "text": [
      "Wall time: 5min 57s\n"
     ]
    },
    {
     "data": {
      "text/plain": [
       "array([[0., 0., 0., ..., 0., 1., 0.],\n",
       "       [0., 0., 0., ..., 0., 0., 0.],\n",
       "       [0., 0., 0., ..., 0., 0., 0.],\n",
       "       ...,\n",
       "       [0., 1., 0., ..., 0., 0., 0.],\n",
       "       [0., 0., 0., ..., 0., 1., 0.],\n",
       "       [0., 0., 0., ..., 0., 0., 0.]])"
      ]
     },
     "execution_count": 33,
     "metadata": {},
     "output_type": "execute_result"
    }
   ],
   "source": [
    "%time my_clf.predict_proba(X_test)"
   ]
  },
  {
   "cell_type": "code",
   "execution_count": 34,
   "metadata": {},
   "outputs": [
    {
     "data": {
      "text/plain": [
       "0.9657142857142857"
      ]
     },
     "execution_count": 34,
     "metadata": {},
     "output_type": "execute_result"
    }
   ],
   "source": [
    "clf.score(X_test, y_test)"
   ]
  },
  {
   "cell_type": "code",
   "execution_count": 35,
   "metadata": {},
   "outputs": [
    {
     "data": {
      "text/plain": [
       "0.9657142857142857"
      ]
     },
     "execution_count": 35,
     "metadata": {},
     "output_type": "execute_result"
    }
   ],
   "source": [
    "my_clf.score(X_test, y_test)"
   ]
  },
  {
   "cell_type": "markdown",
   "metadata": {},
   "source": [
    "Задание 4"
   ]
  },
  {
   "cell_type": "code",
   "execution_count": 36,
   "metadata": {},
   "outputs": [],
   "source": [
    "clf = KNeighborsClassifier(n_neighbors=best_num, algorithm='kd_tree')\n",
    "my_clf = MyKNeighborsClassifier(n_neighbors=best_num, algorithm='kd_tree')"
   ]
  },
  {
   "cell_type": "code",
   "execution_count": 37,
   "metadata": {},
   "outputs": [],
   "source": [
    "X_train, X_test, y_train, y_test = train_test_split(mnist.data, mnist.target, test_size=0.01, stratify=mnist.target)"
   ]
  },
  {
   "cell_type": "code",
   "execution_count": 38,
   "metadata": {},
   "outputs": [
    {
     "name": "stdout",
     "output_type": "stream",
     "text": [
      "Wall time: 28.4 s\n"
     ]
    },
    {
     "data": {
      "text/plain": [
       "KNeighborsClassifier(algorithm='kd_tree', leaf_size=30, metric='minkowski',\n",
       "           metric_params=None, n_jobs=1, n_neighbors=17, p=2,\n",
       "           weights='uniform')"
      ]
     },
     "execution_count": 38,
     "metadata": {},
     "output_type": "execute_result"
    }
   ],
   "source": [
    "%time clf.fit(X_train, y_train)"
   ]
  },
  {
   "cell_type": "code",
   "execution_count": 39,
   "metadata": {},
   "outputs": [
    {
     "name": "stdout",
     "output_type": "stream",
     "text": [
      "Wall time: 27.6 s\n"
     ]
    }
   ],
   "source": [
    "%time my_clf.fit(X_train, y_train)"
   ]
  },
  {
   "cell_type": "code",
   "execution_count": 40,
   "metadata": {},
   "outputs": [
    {
     "name": "stdout",
     "output_type": "stream",
     "text": [
      "Wall time: 1min 8s\n"
     ]
    },
    {
     "data": {
      "text/plain": [
       "array([4., 9., 2., 7., 6., 3., 2., 9., 6., 7., 9., 0., 1., 4., 5., 1., 9.,\n",
       "       8., 7., 9., 1., 8., 3., 8., 0., 3., 3., 5., 1., 1., 9., 8., 7., 6.,\n",
       "       1., 3., 5., 1., 7., 2., 4., 3., 3., 8., 7., 0., 9., 9., 0., 7., 6.,\n",
       "       3., 7., 1., 1., 4., 1., 7., 6., 1., 7., 7., 4., 6., 1., 6., 7., 1.,\n",
       "       2., 7., 6., 5., 0., 5., 3., 8., 7., 7., 1., 8., 0., 4., 4., 1., 9.,\n",
       "       0., 7., 0., 7., 5., 2., 5., 0., 4., 4., 8., 5., 3., 8., 7., 6., 3.,\n",
       "       2., 1., 0., 4., 3., 3., 6., 1., 3., 3., 1., 1., 3., 6., 0., 7., 5.,\n",
       "       6., 7., 5., 5., 2., 2., 8., 2., 2., 5., 4., 6., 4., 1., 5., 7., 2.,\n",
       "       9., 2., 9., 8., 1., 1., 7., 5., 9., 5., 7., 2., 3., 4., 3., 1., 5.,\n",
       "       8., 4., 7., 6., 1., 9., 4., 1., 8., 1., 6., 4., 6., 8., 4., 9., 1.,\n",
       "       0., 0., 9., 3., 4., 2., 3., 7., 1., 9., 2., 6., 3., 0., 4., 6., 7.,\n",
       "       6., 6., 3., 6., 3., 1., 1., 7., 9., 4., 5., 1., 7., 7., 9., 6., 3.,\n",
       "       3., 0., 9., 7., 3., 5., 6., 6., 5., 9., 2., 4., 3., 3., 8., 3., 8.,\n",
       "       3., 8., 1., 8., 2., 0., 6., 7., 0., 5., 8., 1., 0., 1., 7., 0., 7.,\n",
       "       1., 1., 7., 0., 6., 8., 1., 6., 7., 2., 9., 4., 9., 9., 2., 0., 4.,\n",
       "       2., 7., 8., 7., 0., 0., 5., 0., 5., 9., 9., 9., 1., 8., 6., 8., 3.,\n",
       "       3., 4., 0., 6., 0., 3., 9., 0., 4., 4., 0., 1., 9., 0., 7., 8., 5.,\n",
       "       1., 0., 9., 0., 4., 0., 0., 6., 4., 2., 4., 5., 8., 6., 9., 8., 3.,\n",
       "       2., 6., 5., 4., 4., 6., 7., 6., 7., 1., 5., 7., 7., 3., 9., 3., 4.,\n",
       "       5., 0., 9., 6., 3., 5., 2., 5., 1., 2., 8., 9., 7., 4., 4., 0., 9.,\n",
       "       1., 4., 1., 6., 1., 1., 6., 6., 7., 2., 4., 2., 8., 0., 0., 1., 5.,\n",
       "       8., 4., 5., 3., 7., 0., 4., 8., 4., 5., 3., 7., 8., 0., 5., 7., 8.,\n",
       "       4., 3., 9., 4., 3., 2., 1., 1., 5., 0., 5., 7., 5., 2., 0., 6., 8.,\n",
       "       4., 1., 6., 4., 2., 3., 2., 1., 0., 7., 1., 4., 5., 0., 3., 7., 8.,\n",
       "       2., 3., 7., 4., 3., 5., 4., 7., 8., 5., 2., 8., 8., 9., 6., 9., 1.,\n",
       "       2., 9., 6., 0., 2., 7., 4., 2., 4., 0., 1., 5., 5., 9., 6., 2., 7.,\n",
       "       6., 7., 6., 4., 6., 5., 1., 4., 7., 1., 3., 7., 8., 8., 9., 2., 0.,\n",
       "       5., 9., 1., 9., 2., 8., 0., 3., 8., 6., 0., 0., 4., 3., 9., 6., 5.,\n",
       "       6., 0., 5., 1., 7., 2., 1., 0., 3., 4., 0., 8., 4., 0., 5., 5., 3.,\n",
       "       0., 4., 6., 7., 5., 7., 5., 0., 8., 2., 2., 2., 1., 4., 4., 6., 2.,\n",
       "       2., 1., 9., 5., 5., 5., 4., 4., 9., 3., 7., 3., 9., 2., 6., 3., 9.,\n",
       "       2., 2., 0., 2., 1., 7., 2., 2., 9., 8., 1., 8., 9., 3., 8., 8., 0.,\n",
       "       4., 7., 7., 9., 3., 1., 1., 2., 6., 8., 6., 5., 2., 3., 5., 3., 2.,\n",
       "       9., 0., 5., 6., 9., 3., 7., 0., 6., 7., 5., 2., 9., 1., 3., 7., 9.,\n",
       "       7., 9., 9., 6., 3., 2., 9., 3., 6., 9., 1., 4., 1., 2., 6., 5., 5.,\n",
       "       3., 8., 1., 6., 1., 8., 1., 2., 9., 7., 0., 8., 6., 8., 7., 4., 2.,\n",
       "       9., 2., 1., 2., 8., 0., 2., 1., 6., 5., 9., 4., 9., 8., 3., 9., 4.,\n",
       "       2., 5., 4., 8., 0., 9., 9., 3., 1., 9., 6., 8., 0., 9., 8., 2., 1.,\n",
       "       9., 0., 7., 0., 3., 6., 7., 8., 4., 1., 9., 1., 8., 0., 6., 0., 8.,\n",
       "       8., 6., 6., 2., 3., 0., 8., 6., 1., 7., 0., 7., 1., 8., 5., 0., 8.,\n",
       "       7., 8., 5., 7., 3., 1., 0., 1., 6., 6., 1., 2., 1., 2., 2., 3., 3.,\n",
       "       9., 5., 9.])"
      ]
     },
     "execution_count": 40,
     "metadata": {},
     "output_type": "execute_result"
    }
   ],
   "source": [
    "%time clf.predict(X_test)"
   ]
  },
  {
   "cell_type": "code",
   "execution_count": 41,
   "metadata": {},
   "outputs": [
    {
     "name": "stdout",
     "output_type": "stream",
     "text": [
      "Wall time: 56.7 s\n"
     ]
    },
    {
     "data": {
      "text/plain": [
       "array([4, 9, 2, 7, 6, 3, 2, 9, 6, 7, 9, 0, 1, 4, 5, 1, 9, 8, 7, 9, 1, 8,\n",
       "       3, 8, 0, 3, 3, 5, 1, 1, 9, 8, 7, 6, 1, 3, 5, 1, 7, 2, 4, 3, 3, 8,\n",
       "       7, 0, 9, 9, 0, 7, 6, 3, 7, 1, 1, 4, 1, 7, 6, 1, 7, 7, 4, 6, 1, 6,\n",
       "       7, 1, 2, 7, 6, 5, 0, 5, 3, 8, 7, 7, 1, 8, 0, 4, 4, 1, 9, 0, 7, 0,\n",
       "       7, 5, 2, 5, 0, 4, 4, 8, 5, 3, 8, 7, 6, 3, 2, 1, 0, 4, 3, 3, 6, 1,\n",
       "       3, 3, 1, 1, 3, 6, 0, 7, 5, 6, 7, 5, 5, 2, 2, 8, 2, 2, 5, 4, 6, 4,\n",
       "       1, 5, 7, 2, 9, 2, 9, 8, 1, 1, 7, 5, 9, 5, 7, 2, 3, 4, 3, 1, 5, 8,\n",
       "       4, 7, 6, 1, 9, 4, 1, 8, 1, 6, 4, 6, 8, 4, 9, 1, 0, 0, 9, 3, 4, 2,\n",
       "       3, 7, 1, 9, 2, 6, 3, 0, 4, 6, 7, 6, 6, 3, 6, 3, 1, 1, 7, 9, 4, 5,\n",
       "       1, 7, 7, 9, 6, 3, 3, 0, 9, 7, 3, 5, 6, 6, 5, 9, 2, 4, 3, 3, 8, 3,\n",
       "       8, 3, 8, 1, 8, 2, 0, 6, 7, 0, 5, 8, 1, 0, 1, 7, 0, 7, 1, 1, 7, 0,\n",
       "       6, 8, 1, 6, 7, 2, 9, 4, 9, 9, 2, 0, 4, 2, 7, 8, 7, 0, 0, 5, 0, 5,\n",
       "       9, 9, 9, 1, 8, 6, 8, 3, 3, 4, 0, 6, 0, 3, 9, 0, 4, 4, 0, 1, 9, 0,\n",
       "       7, 8, 5, 1, 0, 9, 0, 4, 0, 0, 6, 4, 2, 4, 5, 8, 6, 9, 8, 3, 2, 6,\n",
       "       5, 4, 4, 6, 7, 6, 7, 1, 5, 7, 7, 3, 9, 3, 4, 5, 0, 9, 6, 3, 5, 2,\n",
       "       5, 1, 2, 8, 9, 7, 4, 4, 0, 9, 1, 4, 1, 6, 1, 1, 6, 6, 7, 2, 4, 2,\n",
       "       8, 0, 0, 1, 5, 8, 4, 5, 3, 7, 0, 4, 8, 4, 5, 3, 7, 8, 0, 5, 7, 8,\n",
       "       4, 3, 9, 4, 3, 2, 1, 1, 5, 0, 5, 7, 5, 2, 0, 6, 8, 4, 1, 6, 4, 2,\n",
       "       3, 2, 1, 0, 7, 1, 4, 5, 0, 3, 7, 8, 2, 3, 7, 4, 3, 5, 4, 7, 8, 5,\n",
       "       2, 8, 8, 9, 6, 9, 1, 2, 9, 6, 0, 2, 7, 4, 2, 4, 0, 1, 5, 5, 9, 6,\n",
       "       2, 7, 6, 7, 6, 4, 6, 5, 1, 4, 7, 1, 3, 7, 8, 8, 9, 2, 0, 5, 9, 1,\n",
       "       9, 2, 8, 0, 3, 8, 6, 0, 0, 4, 3, 9, 6, 5, 6, 0, 5, 1, 7, 2, 1, 0,\n",
       "       3, 4, 0, 8, 4, 0, 5, 5, 3, 0, 4, 6, 7, 5, 7, 5, 0, 8, 2, 2, 2, 1,\n",
       "       4, 4, 6, 2, 2, 1, 9, 5, 5, 5, 4, 4, 9, 3, 7, 3, 9, 2, 6, 3, 9, 2,\n",
       "       2, 0, 2, 1, 7, 2, 2, 9, 8, 1, 8, 9, 3, 8, 8, 0, 4, 7, 7, 9, 3, 1,\n",
       "       1, 2, 6, 8, 6, 5, 2, 3, 5, 3, 2, 9, 0, 5, 6, 9, 3, 7, 0, 6, 7, 5,\n",
       "       2, 9, 1, 3, 7, 9, 7, 9, 9, 6, 3, 2, 9, 3, 6, 9, 1, 4, 1, 2, 6, 5,\n",
       "       5, 3, 8, 1, 6, 1, 8, 1, 2, 9, 7, 0, 8, 6, 8, 7, 4, 2, 9, 2, 1, 2,\n",
       "       8, 0, 2, 1, 6, 5, 9, 4, 9, 8, 3, 9, 4, 2, 5, 4, 8, 0, 9, 9, 3, 1,\n",
       "       9, 6, 8, 0, 9, 8, 2, 1, 9, 0, 7, 0, 3, 6, 7, 8, 4, 1, 9, 1, 8, 0,\n",
       "       6, 0, 8, 8, 6, 6, 2, 3, 0, 8, 6, 1, 7, 0, 7, 1, 8, 5, 0, 8, 7, 8,\n",
       "       5, 7, 3, 1, 0, 1, 6, 6, 1, 2, 1, 2, 2, 3, 3, 9, 5, 9], dtype=int64)"
      ]
     },
     "execution_count": 41,
     "metadata": {},
     "output_type": "execute_result"
    }
   ],
   "source": [
    "%time my_clf.predict(X_test)"
   ]
  },
  {
   "cell_type": "code",
   "execution_count": 42,
   "metadata": {},
   "outputs": [
    {
     "name": "stdout",
     "output_type": "stream",
     "text": [
      "Wall time: 1min 8s\n"
     ]
    },
    {
     "data": {
      "text/plain": [
       "array([[0.        , 0.        , 0.        , ..., 0.        , 0.        ,\n",
       "        0.29411765],\n",
       "       [0.        , 0.        , 0.        , ..., 0.        , 0.35294118,\n",
       "        0.52941176],\n",
       "       [0.        , 0.        , 1.        , ..., 0.        , 0.        ,\n",
       "        0.        ],\n",
       "       ...,\n",
       "       [0.        , 0.        , 0.        , ..., 0.        , 0.        ,\n",
       "        1.        ],\n",
       "       [0.        , 0.        , 0.        , ..., 0.        , 0.        ,\n",
       "        0.        ],\n",
       "       [0.        , 0.        , 0.        , ..., 0.        , 0.        ,\n",
       "        0.94117647]])"
      ]
     },
     "execution_count": 42,
     "metadata": {},
     "output_type": "execute_result"
    }
   ],
   "source": [
    "%time clf.predict_proba(X_test)"
   ]
  },
  {
   "cell_type": "code",
   "execution_count": 43,
   "metadata": {},
   "outputs": [
    {
     "name": "stdout",
     "output_type": "stream",
     "text": [
      "Wall time: 56.8 s\n"
     ]
    },
    {
     "data": {
      "text/plain": [
       "array([[0.        , 0.        , 0.        , ..., 0.        , 0.        ,\n",
       "        0.29411765],\n",
       "       [0.        , 0.        , 0.        , ..., 0.        , 0.35294118,\n",
       "        0.52941176],\n",
       "       [0.        , 0.        , 1.        , ..., 0.        , 0.        ,\n",
       "        0.        ],\n",
       "       ...,\n",
       "       [0.        , 0.        , 0.        , ..., 0.        , 0.        ,\n",
       "        1.        ],\n",
       "       [0.        , 0.        , 0.        , ..., 0.        , 0.        ,\n",
       "        0.        ],\n",
       "       [0.        , 0.        , 0.        , ..., 0.        , 0.        ,\n",
       "        0.94117647]])"
      ]
     },
     "execution_count": 43,
     "metadata": {},
     "output_type": "execute_result"
    }
   ],
   "source": [
    "%time my_clf.predict_proba(X_test)"
   ]
  },
  {
   "cell_type": "code",
   "execution_count": 44,
   "metadata": {},
   "outputs": [
    {
     "data": {
      "text/plain": [
       "0.9714285714285714"
      ]
     },
     "execution_count": 44,
     "metadata": {},
     "output_type": "execute_result"
    }
   ],
   "source": [
    "clf.score(X_test, y_test)"
   ]
  },
  {
   "cell_type": "code",
   "execution_count": 45,
   "metadata": {},
   "outputs": [
    {
     "data": {
      "text/plain": [
       "0.9714285714285714"
      ]
     },
     "execution_count": 45,
     "metadata": {},
     "output_type": "execute_result"
    }
   ],
   "source": [
    "my_clf.score(X_test, y_test)"
   ]
  },
  {
   "cell_type": "markdown",
   "metadata": {},
   "source": [
    "Задание 5"
   ]
  },
  {
   "cell_type": "code",
   "execution_count": 46,
   "metadata": {},
   "outputs": [],
   "source": [
    "# seaborn - библеотека для рисования графиков\n",
    "# matplotlib - библеотека для рисования графиков\n",
    "# train_test_split - функция для разбиения выборки на две части: для тренировки алгоритма \n",
    "# и для его тестирования\n",
    "# %load_ext Pipeline (from sklearn.pipeline import Pipeline) - конвеер. Позволяет выполнять\n",
    "# сразу некоторую последовательность действий.\n",
    "# StandardScaler (from sklearn.preprocessing import StandardScaler) - стандартизует фичи, вычитая\n",
    "# среднее значение и приводя дисперсию к единице\n",
    "# ClassifierMixin - суперкласс для всех классификаторов в библеотеке sklearn\n",
    "# NeighborsBase - интерфейс для поиска ближайших соседей\n",
    "# KNeighborsMixin - суперкласс для всех методов ближайших соседей в sklearn\n",
    "# SupervisedIntegerMixin - класс, содержит в себе функцию fit которая принимает целосичленные \n",
    "# значения y"
   ]
  }
 ],
 "metadata": {
  "kernelspec": {
   "display_name": "Python 3",
   "language": "python",
   "name": "python3"
  },
  "language_info": {
   "codemirror_mode": {
    "name": "ipython",
    "version": 3
   },
   "file_extension": ".py",
   "mimetype": "text/x-python",
   "name": "python",
   "nbconvert_exporter": "python",
   "pygments_lexer": "ipython3",
   "version": "3.6.5"
  }
 },
 "nbformat": 4,
 "nbformat_minor": 2
}
